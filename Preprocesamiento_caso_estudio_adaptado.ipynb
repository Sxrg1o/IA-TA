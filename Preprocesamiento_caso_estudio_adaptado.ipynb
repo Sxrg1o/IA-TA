{
 "cells": [
  {
   "cell_type": "markdown",
   "metadata": {
    "id": "13HhSCwVz6iR"
   },
   "source": [
    "# INTELIGENCIA ARTIFICIAL (1INF24\\)\n",
    "Dr. Edwin Villanueva Talavera (ervillanueva@pucp.edu.pe)\n",
    "\n",
    "\n",
    "\n",
    "# <font color=blue>Preprocesamiento de datos: Caso de Estudio</font>\n",
    "\n",
    "---"
   ]
  },
  {
   "cell_type": "markdown",
   "metadata": {
    "id": "FyDDk1CG0mDH"
   },
   "source": [
    "## Integración de Técnicas de Machine Learning para la Predicción y Análisis de la contaminación del Aire en Lima metropolitana"
   ]
  },
  {
   "cell_type": "markdown",
   "metadata": {
    "id": "QqKR5las0rE6"
   },
   "source": [
    "El presente trabajo aborda la problemática de la contaminación del aire en diversos distritos de Lima, Perú, donde la alta densidad vehicular, la actividad industrial y la quema de residuos contribuyen a altos niveles de partículas en suspensión y gases tóxicos. El objetivo principal fue desarrollar un modelo predictivo de la calidad del aire utilizando técnicas de machine learning como árboles de decisión, regresión y análisis de componentes principales (PCA) para obtener predicciones precisas y analizar las dinámicas entre contaminantes y factores meteorológicos. Se tienen la siguiente base de datos con información relevante para el proceso de análisis:\n",
    "\n",
    "1.   <font color=blue>estaciones_filtradas.csv</font>: Tabla con informacion general de contamincación por estaciones ubicadas en distritos de interés.\n",
    "\n"
   ]
  },
  {
   "cell_type": "markdown",
   "metadata": {
    "id": "ZRh7LrVV1o1S"
   },
   "source": [
    "## Diccionario de datos"
   ]
  },
  {
   "cell_type": "markdown",
   "metadata": {
    "id": "2b4NZeam1d3Z"
   },
   "source": [
    "**estaciones_filtradas.csv** tiene los siguientes campos:\n",
    "\n",
    "*   ESTACION: Nombre de estación de monitoreo automático de la calidad del aire.\n",
    "*   ANO: Año en el que se realiza la medición en la estación de monitoreo automático de la calidad del aire.\n",
    "*   MES: Mes en el que se realiza la medición en la estación de monitoreo automático de la calidad del aire.\n",
    "*   DIA: Día en el que se realiza la medición en la estación de monitoreo automático de la calidad del aire.\n",
    "*   HORA: Hora en el que se realiza la medición en la estación de monitoreo automático de la calidad del aire.\n",
    "*   PM 10: Material Particulado menor a 10 micras (PM10).\n",
    "*   PM 2.5: Material Particulado menor a 2.5 micras (PM2.5).\n",
    "*   SO2: Dioxido de azufre (SO2).\n",
    "*   NO2: Dioxido de nitrógeno (NO2).\n",
    "*   O3: Ozono.\n",
    "*   CO: Monoxido de carbono."
   ]
  },
  {
   "cell_type": "markdown",
   "metadata": {
    "id": "E9PdkFdq3NxG"
   },
   "source": [
    "## Cargando datos"
   ]
  },
  {
   "cell_type": "code",
   "execution_count": 1,
   "metadata": {
    "colab": {
     "base_uri": "https://localhost:8080/",
     "height": 224
    },
    "executionInfo": {
     "elapsed": 300,
     "status": "ok",
     "timestamp": 1733413630756,
     "user": {
      "displayName": "GIANFRANCO MOISES POMA CANCHARI",
      "userId": "10893674760892897654"
     },
     "user_tz": 300
    },
    "id": "lyW8Yr-v0qCT",
    "outputId": "0b24862d-4f1b-4c69-aa92-4cd55427938e"
   },
   "outputs": [
    {
     "name": "stdout",
     "output_type": "stream",
     "text": [
      "Se leyo un dataset de dimensiones (98568, 11)\n"
     ]
    },
    {
     "data": {
      "text/html": [
       "<div>\n",
       "<style scoped>\n",
       "    .dataframe tbody tr th:only-of-type {\n",
       "        vertical-align: middle;\n",
       "    }\n",
       "\n",
       "    .dataframe tbody tr th {\n",
       "        vertical-align: top;\n",
       "    }\n",
       "\n",
       "    .dataframe thead th {\n",
       "        text-align: right;\n",
       "    }\n",
       "</style>\n",
       "<table border=\"1\" class=\"dataframe\">\n",
       "  <thead>\n",
       "    <tr style=\"text-align: right;\">\n",
       "      <th></th>\n",
       "      <th>ESTACION</th>\n",
       "      <th>ANO</th>\n",
       "      <th>MES</th>\n",
       "      <th>DIA</th>\n",
       "      <th>HORA</th>\n",
       "      <th>PM 10</th>\n",
       "      <th>PM 2.5</th>\n",
       "      <th>SO2</th>\n",
       "      <th>NO2</th>\n",
       "      <th>O3</th>\n",
       "      <th>CO</th>\n",
       "    </tr>\n",
       "  </thead>\n",
       "  <tbody>\n",
       "    <tr>\n",
       "      <th>0</th>\n",
       "      <td>ATE</td>\n",
       "      <td>2017</td>\n",
       "      <td>1</td>\n",
       "      <td>1</td>\n",
       "      <td>0</td>\n",
       "      <td>421.9</td>\n",
       "      <td>NaN</td>\n",
       "      <td>54.7</td>\n",
       "      <td>NaN</td>\n",
       "      <td>1.9</td>\n",
       "      <td>885.5</td>\n",
       "    </tr>\n",
       "    <tr>\n",
       "      <th>1</th>\n",
       "      <td>ATE</td>\n",
       "      <td>2017</td>\n",
       "      <td>1</td>\n",
       "      <td>1</td>\n",
       "      <td>1</td>\n",
       "      <td>382.9</td>\n",
       "      <td>NaN</td>\n",
       "      <td>53.5</td>\n",
       "      <td>NaN</td>\n",
       "      <td>1.7</td>\n",
       "      <td>1046.5</td>\n",
       "    </tr>\n",
       "    <tr>\n",
       "      <th>2</th>\n",
       "      <td>ATE</td>\n",
       "      <td>2017</td>\n",
       "      <td>1</td>\n",
       "      <td>1</td>\n",
       "      <td>2</td>\n",
       "      <td>403.4</td>\n",
       "      <td>NaN</td>\n",
       "      <td>54.2</td>\n",
       "      <td>NaN</td>\n",
       "      <td>2.1</td>\n",
       "      <td>1342.0</td>\n",
       "    </tr>\n",
       "    <tr>\n",
       "      <th>3</th>\n",
       "      <td>ATE</td>\n",
       "      <td>2017</td>\n",
       "      <td>1</td>\n",
       "      <td>1</td>\n",
       "      <td>3</td>\n",
       "      <td>425.0</td>\n",
       "      <td>NaN</td>\n",
       "      <td>52.0</td>\n",
       "      <td>NaN</td>\n",
       "      <td>2.4</td>\n",
       "      <td>1431.8</td>\n",
       "    </tr>\n",
       "    <tr>\n",
       "      <th>4</th>\n",
       "      <td>ATE</td>\n",
       "      <td>2017</td>\n",
       "      <td>1</td>\n",
       "      <td>1</td>\n",
       "      <td>4</td>\n",
       "      <td>289.3</td>\n",
       "      <td>NaN</td>\n",
       "      <td>47.9</td>\n",
       "      <td>NaN</td>\n",
       "      <td>1.4</td>\n",
       "      <td>1138.5</td>\n",
       "    </tr>\n",
       "  </tbody>\n",
       "</table>\n",
       "</div>"
      ],
      "text/plain": [
       "  ESTACION   ANO  MES  DIA  HORA  PM 10  PM 2.5   SO2  NO2   O3      CO\n",
       "0      ATE  2017    1    1     0  421.9     NaN  54.7  NaN  1.9   885.5\n",
       "1      ATE  2017    1    1     1  382.9     NaN  53.5  NaN  1.7  1046.5\n",
       "2      ATE  2017    1    1     2  403.4     NaN  54.2  NaN  2.1  1342.0\n",
       "3      ATE  2017    1    1     3  425.0     NaN  52.0  NaN  2.4  1431.8\n",
       "4      ATE  2017    1    1     4  289.3     NaN  47.9  NaN  1.4  1138.5"
      ]
     },
     "execution_count": 1,
     "metadata": {},
     "output_type": "execute_result"
    }
   ],
   "source": [
    "import pandas as pd\n",
    "import numpy as np\n",
    "\n",
    "# Importamos la información de la tabla Maestro Clientes.\n",
    "df_contaminantes = pd.read_csv('estaciones_filtradas.csv', sep = ',')\n",
    "print('Se leyo un dataset de dimensiones {}'.format(df_contaminantes.shape))\n",
    "df_contaminantes.head()"
   ]
  },
  {
   "cell_type": "markdown",
   "metadata": {
    "id": "qg4tWd9-Gp9w"
   },
   "source": [
    "## Verificando los tipos de datos de las columnas y haciendo correcciones si necesario\n",
    "Revisamos que los tipos de datos sean los esperados, sino los corregimos"
   ]
  },
  {
   "cell_type": "code",
   "execution_count": 2,
   "metadata": {
    "colab": {
     "base_uri": "https://localhost:8080/",
     "height": 429
    },
    "executionInfo": {
     "elapsed": 649,
     "status": "ok",
     "timestamp": 1733413635466,
     "user": {
      "displayName": "GIANFRANCO MOISES POMA CANCHARI",
      "userId": "10893674760892897654"
     },
     "user_tz": 300
    },
    "id": "JmmFo0kODqNz",
    "outputId": "cee18c40-7bcd-4c9d-af11-78581989383f"
   },
   "outputs": [
    {
     "data": {
      "text/plain": [
       "ESTACION     object\n",
       "ANO           int64\n",
       "MES           int64\n",
       "DIA           int64\n",
       "HORA          int64\n",
       "PM 10       float64\n",
       "PM 2.5      float64\n",
       "SO2         float64\n",
       "NO2         float64\n",
       "O3          float64\n",
       "CO          float64\n",
       "dtype: object"
      ]
     },
     "execution_count": 2,
     "metadata": {},
     "output_type": "execute_result"
    }
   ],
   "source": [
    "df_contaminantes.dtypes"
   ]
  },
  {
   "cell_type": "markdown",
   "metadata": {
    "id": "tGQR4uoHG3P1"
   },
   "source": [
    "## Lidiando con nulos y dropeando columnas que no sean de utilidad  \n",
    "\n",
    "Buscamos los valores nulos. Los mostramos en porcentaje del total de información."
   ]
  },
  {
   "cell_type": "code",
   "execution_count": 3,
   "metadata": {
    "colab": {
     "base_uri": "https://localhost:8080/"
    },
    "executionInfo": {
     "elapsed": 3,
     "status": "ok",
     "timestamp": 1733413637626,
     "user": {
      "displayName": "GIANFRANCO MOISES POMA CANCHARI",
      "userId": "10893674760892897654"
     },
     "user_tz": 300
    },
    "id": "YstQLJ_7yLr9",
    "outputId": "ffa1bcd6-3992-4cd4-8fc4-8d00a0f03c8e"
   },
   "outputs": [
    {
     "data": {
      "text/plain": [
       "Index(['ESTACION', 'ANO', 'MES', 'DIA', 'HORA', 'PM 10', 'PM 2.5', 'SO2',\n",
       "       'NO2', 'O3', 'CO'],\n",
       "      dtype='object')"
      ]
     },
     "execution_count": 3,
     "metadata": {},
     "output_type": "execute_result"
    }
   ],
   "source": [
    "df_contaminantes.columns"
   ]
  },
  {
   "cell_type": "code",
   "execution_count": null,
   "metadata": {
    "id": "4C1mFwrgv4cQ"
   },
   "outputs": [],
   "source": [
    "# Muestrame valores que tengan un mismo mes ,ano y distrito"
   ]
  },
  {
   "cell_type": "code",
   "execution_count": 4,
   "metadata": {
    "colab": {
     "base_uri": "https://localhost:8080/"
    },
    "executionInfo": {
     "elapsed": 320,
     "status": "ok",
     "timestamp": 1733413640815,
     "user": {
      "displayName": "GIANFRANCO MOISES POMA CANCHARI",
      "userId": "10893674760892897654"
     },
     "user_tz": 300
    },
    "id": "znUqPuY2wA4P",
    "outputId": "71c60a53-1f0b-4e47-d969-6f7027a9a06c"
   },
   "outputs": [
    {
     "name": "stdout",
     "output_type": "stream",
     "text": [
      "      ESTACION   ANO  MES  DIA  HORA   PM 10  PM 2.5   SO2  NO2   O3      CO\n",
      "18264      ATE  2019    2    1     0   40.61     NaN  14.7  NaN  5.6  2004.4\n",
      "18265      ATE  2019    2    1     1  109.40     NaN  11.1  NaN  6.0  2137.8\n",
      "18266      ATE  2019    2    1     2   82.90     NaN   7.4  NaN  5.5  1897.5\n",
      "18267      ATE  2019    2    1     3   58.84     NaN   6.7  NaN  5.1  1808.9\n",
      "18268      ATE  2019    2    1     4   37.84     NaN   6.5  NaN  5.1  1784.8\n",
      "...        ...   ...  ...  ...   ...     ...     ...   ...  ...  ...     ...\n",
      "18931      ATE  2019    2   28    19     NaN     NaN   NaN  NaN  5.9  1867.6\n",
      "18932      ATE  2019    2   28    20     NaN     NaN   NaN  NaN  5.6  1934.3\n",
      "18933      ATE  2019    2   28    21     NaN     NaN   NaN  NaN  5.7  2018.2\n",
      "18934      ATE  2019    2   28    22     NaN     NaN   NaN  NaN  5.9  2250.5\n",
      "18935      ATE  2019    2   28    23     NaN     NaN   NaN  NaN  5.9  2470.2\n",
      "\n",
      "[672 rows x 11 columns]\n"
     ]
    }
   ],
   "source": [
    "filtro = (df_contaminantes['ANO']==2019) & (df_contaminantes['MES']==2) & (df_contaminantes['ESTACION'] == \"ATE\")\n",
    "df_filtrado = df_contaminantes[filtro]\n",
    "print(df_filtrado)"
   ]
  },
  {
   "cell_type": "code",
   "execution_count": 5,
   "metadata": {
    "colab": {
     "base_uri": "https://localhost:8080/"
    },
    "executionInfo": {
     "elapsed": 306,
     "status": "ok",
     "timestamp": 1733413643861,
     "user": {
      "displayName": "GIANFRANCO MOISES POMA CANCHARI",
      "userId": "10893674760892897654"
     },
     "user_tz": 300
    },
    "id": "ymRvKnoWQjNi",
    "outputId": "8118329e-a00f-4fea-b5f9-e840a1536089"
   },
   "outputs": [
    {
     "data": {
      "text/plain": [
       "98568"
      ]
     },
     "execution_count": 5,
     "metadata": {},
     "output_type": "execute_result"
    }
   ],
   "source": [
    "df_contaminantes.shape[0]"
   ]
  },
  {
   "cell_type": "code",
   "execution_count": 6,
   "metadata": {
    "colab": {
     "base_uri": "https://localhost:8080/",
     "height": 429
    },
    "executionInfo": {
     "elapsed": 3,
     "status": "ok",
     "timestamp": 1733413645593,
     "user": {
      "displayName": "GIANFRANCO MOISES POMA CANCHARI",
      "userId": "10893674760892897654"
     },
     "user_tz": 300
    },
    "id": "owZriPtsVeqE",
    "outputId": "45b8ca13-7a40-4317-cf46-c8aff3e0a4c5"
   },
   "outputs": [
    {
     "data": {
      "text/plain": [
       "ESTACION     0.000000\n",
       "ANO          0.000000\n",
       "MES          0.000000\n",
       "DIA          0.000000\n",
       "HORA         0.000000\n",
       "PM 10       36.538227\n",
       "PM 2.5      48.188053\n",
       "SO2         55.937018\n",
       "NO2         44.628074\n",
       "O3          37.808417\n",
       "CO          44.810689\n",
       "dtype: float64"
      ]
     },
     "execution_count": 6,
     "metadata": {},
     "output_type": "execute_result"
    }
   ],
   "source": [
    "100*df_contaminantes.isnull().sum() / df_contaminantes.shape[0]"
   ]
  },
  {
   "cell_type": "code",
   "execution_count": 7,
   "metadata": {
    "colab": {
     "base_uri": "https://localhost:8080/"
    },
    "executionInfo": {
     "elapsed": 1058,
     "status": "ok",
     "timestamp": 1733413649588,
     "user": {
      "displayName": "GIANFRANCO MOISES POMA CANCHARI",
      "userId": "10893674760892897654"
     },
     "user_tz": 300
    },
    "id": "xf7rWAP_cDxz",
    "outputId": "ff6b3164-0a12-43e8-d53f-4890b36013d5"
   },
   "outputs": [
    {
     "name": "stdout",
     "output_type": "stream",
     "text": [
      "                     ESTACION   ANO  MES  DIA  HORA  PM 10  PM 2.5   SO2  NO2  \\\n",
      "0                         ATE  2017    1    1     0  421.9     NaN  54.7  NaN   \n",
      "1                         ATE  2017    1    1     1  382.9     NaN  53.5  NaN   \n",
      "2                         ATE  2017    1    1     2  403.4     NaN  54.2  NaN   \n",
      "3                         ATE  2017    1    1     3  425.0     NaN  52.0  NaN   \n",
      "4                         ATE  2017    1    1     4  289.3     NaN  47.9  NaN   \n",
      "...                       ...   ...  ...  ...   ...    ...     ...   ...  ...   \n",
      "98563  SAN JUAN DE LURIGANCHO  2020    9   30    19    NaN   15.03   NaN  NaN   \n",
      "98564  SAN JUAN DE LURIGANCHO  2020    9   30    20    NaN   13.33   NaN  NaN   \n",
      "98565  SAN JUAN DE LURIGANCHO  2020    9   30    21    NaN   20.49   NaN  NaN   \n",
      "98566  SAN JUAN DE LURIGANCHO  2020    9   30    22    NaN   24.55   NaN  NaN   \n",
      "98567  SAN JUAN DE LURIGANCHO  2020    9   30    23    NaN   17.77   NaN  NaN   \n",
      "\n",
      "        O3      CO  \n",
      "0      1.9   885.5  \n",
      "1      1.7  1046.5  \n",
      "2      2.1  1342.0  \n",
      "3      2.4  1431.8  \n",
      "4      1.4  1138.5  \n",
      "...    ...     ...  \n",
      "98563  3.5  1007.4  \n",
      "98564  3.6   962.5  \n",
      "98565  3.5   869.4  \n",
      "98566  3.7   861.3  \n",
      "98567  3.6   830.3  \n",
      "\n",
      "[76739 rows x 11 columns]\n"
     ]
    }
   ],
   "source": [
    "# Observo que hay muchas filas las cuales tienen hasta 4 columnas o mas con valores NaN , entonces eliminare los registros que contengan mas de 4 columnas de\n",
    "# contaminantes en cero\n",
    "\n",
    "\n",
    "\n",
    "# Lista de columnas de contaminantes (ajusta el nombre de las columnas según tu dataset)\n",
    "columnas_contaminantes = ['PM 10', 'PM 2.5', 'SO2', 'NO2', 'O3', 'CO']\n",
    "\n",
    "# Crear una máscara que cuente cuántas columnas tienen valores cero en cada fila\n",
    "mask = df_contaminantes[columnas_contaminantes].isna().sum(axis=1) > 4\n",
    "\n",
    "# Filtrar el DataFrame, eliminando las filas donde más de 4 columnas tienen valor cero\n",
    "df_contaminantes = df_contaminantes[~mask]\n",
    "\n",
    "# Ver el resultado\n",
    "print(df_contaminantes)\n",
    "\n",
    "\n"
   ]
  },
  {
   "cell_type": "code",
   "execution_count": null,
   "metadata": {
    "id": "2lStD3A1_YFq"
   },
   "outputs": [],
   "source": [
    "# Para realizar el imputador antes debo pasar las columnas a numericas, en este caso la estacion lo pasare a numerica\n",
    "# aplicare el one-hot-encoder"
   ]
  },
  {
   "cell_type": "code",
   "execution_count": 8,
   "metadata": {
    "colab": {
     "base_uri": "https://localhost:8080/"
    },
    "executionInfo": {
     "elapsed": 339,
     "status": "ok",
     "timestamp": 1733413655542,
     "user": {
      "displayName": "GIANFRANCO MOISES POMA CANCHARI",
      "userId": "10893674760892897654"
     },
     "user_tz": 300
    },
    "id": "TvjiGhOKYNB8",
    "outputId": "c38c5f82-71a9-4765-f637-f97839f9f814"
   },
   "outputs": [
    {
     "data": {
      "text/plain": [
       "array(['ATE', 'SANTA ANITA', 'SAN JUAN DE LURIGANCHO'], dtype=object)"
      ]
     },
     "execution_count": 8,
     "metadata": {},
     "output_type": "execute_result"
    }
   ],
   "source": [
    "df_contaminantes['ESTACION'].unique()"
   ]
  },
  {
   "cell_type": "code",
   "execution_count": 10,
   "metadata": {
    "executionInfo": {
     "elapsed": 269,
     "status": "ok",
     "timestamp": 1733413659366,
     "user": {
      "displayName": "GIANFRANCO MOISES POMA CANCHARI",
      "userId": "10893674760892897654"
     },
     "user_tz": 300
    },
    "id": "1h5BJWYYP09y"
   },
   "outputs": [],
   "source": [
    "# Creamos 4 variables binarias (Norte, Sur, Centro y Lima) en base a la ubicacion del DEPARTAMENTO.\n",
    "# Esta codificacion se llama one-hot encoding y es util para convertir categorias en valores numericos\n",
    "df_contaminantes['ATE'] = np.where(df_contaminantes.ESTACION == 'ATE', 1, 0)\n",
    "df_contaminantes['SANTA ANITA'] = np.where(df_contaminantes.ESTACION == 'SANTA ANITA', 1, 0)\n",
    "df_contaminantes['SAN JUAN DE LURIGANCHO'] = np.where(df_contaminantes.ESTACION == 'SAN JUAN DE LURIGANCHO', 1, 0)\n"
   ]
  },
  {
   "cell_type": "code",
   "execution_count": 11,
   "metadata": {
    "colab": {
     "base_uri": "https://localhost:8080/",
     "height": 206
    },
    "executionInfo": {
     "elapsed": 254,
     "status": "ok",
     "timestamp": 1733413662174,
     "user": {
      "displayName": "GIANFRANCO MOISES POMA CANCHARI",
      "userId": "10893674760892897654"
     },
     "user_tz": 300
    },
    "id": "5qo9dnT8Ymwy",
    "outputId": "4cc57c55-63ab-4b90-fedf-6a754dad9da9"
   },
   "outputs": [
    {
     "data": {
      "text/html": [
       "<div>\n",
       "<style scoped>\n",
       "    .dataframe tbody tr th:only-of-type {\n",
       "        vertical-align: middle;\n",
       "    }\n",
       "\n",
       "    .dataframe tbody tr th {\n",
       "        vertical-align: top;\n",
       "    }\n",
       "\n",
       "    .dataframe thead th {\n",
       "        text-align: right;\n",
       "    }\n",
       "</style>\n",
       "<table border=\"1\" class=\"dataframe\">\n",
       "  <thead>\n",
       "    <tr style=\"text-align: right;\">\n",
       "      <th></th>\n",
       "      <th>ESTACION</th>\n",
       "      <th>ANO</th>\n",
       "      <th>MES</th>\n",
       "      <th>DIA</th>\n",
       "      <th>HORA</th>\n",
       "      <th>PM 10</th>\n",
       "      <th>PM 2.5</th>\n",
       "      <th>SO2</th>\n",
       "      <th>NO2</th>\n",
       "      <th>O3</th>\n",
       "      <th>CO</th>\n",
       "      <th>ATE</th>\n",
       "      <th>SANTA ANITA</th>\n",
       "      <th>SAN JUAN DE LURIGANCHO</th>\n",
       "    </tr>\n",
       "  </thead>\n",
       "  <tbody>\n",
       "    <tr>\n",
       "      <th>0</th>\n",
       "      <td>ATE</td>\n",
       "      <td>2017</td>\n",
       "      <td>1</td>\n",
       "      <td>1</td>\n",
       "      <td>0</td>\n",
       "      <td>421.9</td>\n",
       "      <td>NaN</td>\n",
       "      <td>54.7</td>\n",
       "      <td>NaN</td>\n",
       "      <td>1.9</td>\n",
       "      <td>885.5</td>\n",
       "      <td>1</td>\n",
       "      <td>0</td>\n",
       "      <td>0</td>\n",
       "    </tr>\n",
       "    <tr>\n",
       "      <th>1</th>\n",
       "      <td>ATE</td>\n",
       "      <td>2017</td>\n",
       "      <td>1</td>\n",
       "      <td>1</td>\n",
       "      <td>1</td>\n",
       "      <td>382.9</td>\n",
       "      <td>NaN</td>\n",
       "      <td>53.5</td>\n",
       "      <td>NaN</td>\n",
       "      <td>1.7</td>\n",
       "      <td>1046.5</td>\n",
       "      <td>1</td>\n",
       "      <td>0</td>\n",
       "      <td>0</td>\n",
       "    </tr>\n",
       "    <tr>\n",
       "      <th>2</th>\n",
       "      <td>ATE</td>\n",
       "      <td>2017</td>\n",
       "      <td>1</td>\n",
       "      <td>1</td>\n",
       "      <td>2</td>\n",
       "      <td>403.4</td>\n",
       "      <td>NaN</td>\n",
       "      <td>54.2</td>\n",
       "      <td>NaN</td>\n",
       "      <td>2.1</td>\n",
       "      <td>1342.0</td>\n",
       "      <td>1</td>\n",
       "      <td>0</td>\n",
       "      <td>0</td>\n",
       "    </tr>\n",
       "    <tr>\n",
       "      <th>3</th>\n",
       "      <td>ATE</td>\n",
       "      <td>2017</td>\n",
       "      <td>1</td>\n",
       "      <td>1</td>\n",
       "      <td>3</td>\n",
       "      <td>425.0</td>\n",
       "      <td>NaN</td>\n",
       "      <td>52.0</td>\n",
       "      <td>NaN</td>\n",
       "      <td>2.4</td>\n",
       "      <td>1431.8</td>\n",
       "      <td>1</td>\n",
       "      <td>0</td>\n",
       "      <td>0</td>\n",
       "    </tr>\n",
       "    <tr>\n",
       "      <th>4</th>\n",
       "      <td>ATE</td>\n",
       "      <td>2017</td>\n",
       "      <td>1</td>\n",
       "      <td>1</td>\n",
       "      <td>4</td>\n",
       "      <td>289.3</td>\n",
       "      <td>NaN</td>\n",
       "      <td>47.9</td>\n",
       "      <td>NaN</td>\n",
       "      <td>1.4</td>\n",
       "      <td>1138.5</td>\n",
       "      <td>1</td>\n",
       "      <td>0</td>\n",
       "      <td>0</td>\n",
       "    </tr>\n",
       "  </tbody>\n",
       "</table>\n",
       "</div>"
      ],
      "text/plain": [
       "  ESTACION   ANO  MES  DIA  HORA  PM 10  PM 2.5   SO2  NO2   O3      CO  ATE  \\\n",
       "0      ATE  2017    1    1     0  421.9     NaN  54.7  NaN  1.9   885.5    1   \n",
       "1      ATE  2017    1    1     1  382.9     NaN  53.5  NaN  1.7  1046.5    1   \n",
       "2      ATE  2017    1    1     2  403.4     NaN  54.2  NaN  2.1  1342.0    1   \n",
       "3      ATE  2017    1    1     3  425.0     NaN  52.0  NaN  2.4  1431.8    1   \n",
       "4      ATE  2017    1    1     4  289.3     NaN  47.9  NaN  1.4  1138.5    1   \n",
       "\n",
       "   SANTA ANITA  SAN JUAN DE LURIGANCHO  \n",
       "0            0                       0  \n",
       "1            0                       0  \n",
       "2            0                       0  \n",
       "3            0                       0  \n",
       "4            0                       0  "
      ]
     },
     "execution_count": 11,
     "metadata": {},
     "output_type": "execute_result"
    }
   ],
   "source": [
    "#Verifico que se agregaron las columnas\n",
    "df_contaminantes.head()"
   ]
  },
  {
   "cell_type": "code",
   "execution_count": 12,
   "metadata": {
    "executionInfo": {
     "elapsed": 282,
     "status": "ok",
     "timestamp": 1733413678496,
     "user": {
      "displayName": "GIANFRANCO MOISES POMA CANCHARI",
      "userId": "10893674760892897654"
     },
     "user_tz": 300
    },
    "id": "_fOsYQ9DYue0"
   },
   "outputs": [],
   "source": [
    "#Borro la columna ESTACION\n",
    "df_contaminantes = df_contaminantes.drop(columns = ['ESTACION'])"
   ]
  },
  {
   "cell_type": "code",
   "execution_count": 13,
   "metadata": {
    "colab": {
     "base_uri": "https://localhost:8080/",
     "height": 206
    },
    "executionInfo": {
     "elapsed": 426,
     "status": "ok",
     "timestamp": 1733413918203,
     "user": {
      "displayName": "GIANFRANCO MOISES POMA CANCHARI",
      "userId": "10893674760892897654"
     },
     "user_tz": 300
    },
    "id": "GhuvIENBhRon",
    "outputId": "ba2b95e4-72f0-45cf-908e-ce0061790bec"
   },
   "outputs": [
    {
     "data": {
      "text/html": [
       "<div>\n",
       "<style scoped>\n",
       "    .dataframe tbody tr th:only-of-type {\n",
       "        vertical-align: middle;\n",
       "    }\n",
       "\n",
       "    .dataframe tbody tr th {\n",
       "        vertical-align: top;\n",
       "    }\n",
       "\n",
       "    .dataframe thead th {\n",
       "        text-align: right;\n",
       "    }\n",
       "</style>\n",
       "<table border=\"1\" class=\"dataframe\">\n",
       "  <thead>\n",
       "    <tr style=\"text-align: right;\">\n",
       "      <th></th>\n",
       "      <th>ANO</th>\n",
       "      <th>MES</th>\n",
       "      <th>DIA</th>\n",
       "      <th>HORA</th>\n",
       "      <th>PM 10</th>\n",
       "      <th>PM 2.5</th>\n",
       "      <th>SO2</th>\n",
       "      <th>NO2</th>\n",
       "      <th>O3</th>\n",
       "      <th>CO</th>\n",
       "      <th>ATE</th>\n",
       "      <th>SANTA ANITA</th>\n",
       "      <th>SAN JUAN DE LURIGANCHO</th>\n",
       "    </tr>\n",
       "  </thead>\n",
       "  <tbody>\n",
       "    <tr>\n",
       "      <th>0</th>\n",
       "      <td>2017</td>\n",
       "      <td>1</td>\n",
       "      <td>1</td>\n",
       "      <td>0</td>\n",
       "      <td>421.9</td>\n",
       "      <td>NaN</td>\n",
       "      <td>54.7</td>\n",
       "      <td>NaN</td>\n",
       "      <td>1.9</td>\n",
       "      <td>885.5</td>\n",
       "      <td>1</td>\n",
       "      <td>0</td>\n",
       "      <td>0</td>\n",
       "    </tr>\n",
       "    <tr>\n",
       "      <th>1</th>\n",
       "      <td>2017</td>\n",
       "      <td>1</td>\n",
       "      <td>1</td>\n",
       "      <td>1</td>\n",
       "      <td>382.9</td>\n",
       "      <td>NaN</td>\n",
       "      <td>53.5</td>\n",
       "      <td>NaN</td>\n",
       "      <td>1.7</td>\n",
       "      <td>1046.5</td>\n",
       "      <td>1</td>\n",
       "      <td>0</td>\n",
       "      <td>0</td>\n",
       "    </tr>\n",
       "    <tr>\n",
       "      <th>2</th>\n",
       "      <td>2017</td>\n",
       "      <td>1</td>\n",
       "      <td>1</td>\n",
       "      <td>2</td>\n",
       "      <td>403.4</td>\n",
       "      <td>NaN</td>\n",
       "      <td>54.2</td>\n",
       "      <td>NaN</td>\n",
       "      <td>2.1</td>\n",
       "      <td>1342.0</td>\n",
       "      <td>1</td>\n",
       "      <td>0</td>\n",
       "      <td>0</td>\n",
       "    </tr>\n",
       "    <tr>\n",
       "      <th>3</th>\n",
       "      <td>2017</td>\n",
       "      <td>1</td>\n",
       "      <td>1</td>\n",
       "      <td>3</td>\n",
       "      <td>425.0</td>\n",
       "      <td>NaN</td>\n",
       "      <td>52.0</td>\n",
       "      <td>NaN</td>\n",
       "      <td>2.4</td>\n",
       "      <td>1431.8</td>\n",
       "      <td>1</td>\n",
       "      <td>0</td>\n",
       "      <td>0</td>\n",
       "    </tr>\n",
       "    <tr>\n",
       "      <th>4</th>\n",
       "      <td>2017</td>\n",
       "      <td>1</td>\n",
       "      <td>1</td>\n",
       "      <td>4</td>\n",
       "      <td>289.3</td>\n",
       "      <td>NaN</td>\n",
       "      <td>47.9</td>\n",
       "      <td>NaN</td>\n",
       "      <td>1.4</td>\n",
       "      <td>1138.5</td>\n",
       "      <td>1</td>\n",
       "      <td>0</td>\n",
       "      <td>0</td>\n",
       "    </tr>\n",
       "  </tbody>\n",
       "</table>\n",
       "</div>"
      ],
      "text/plain": [
       "    ANO  MES  DIA  HORA  PM 10  PM 2.5   SO2  NO2   O3      CO  ATE  \\\n",
       "0  2017    1    1     0  421.9     NaN  54.7  NaN  1.9   885.5    1   \n",
       "1  2017    1    1     1  382.9     NaN  53.5  NaN  1.7  1046.5    1   \n",
       "2  2017    1    1     2  403.4     NaN  54.2  NaN  2.1  1342.0    1   \n",
       "3  2017    1    1     3  425.0     NaN  52.0  NaN  2.4  1431.8    1   \n",
       "4  2017    1    1     4  289.3     NaN  47.9  NaN  1.4  1138.5    1   \n",
       "\n",
       "   SANTA ANITA  SAN JUAN DE LURIGANCHO  \n",
       "0            0                       0  \n",
       "1            0                       0  \n",
       "2            0                       0  \n",
       "3            0                       0  \n",
       "4            0                       0  "
      ]
     },
     "execution_count": 13,
     "metadata": {},
     "output_type": "execute_result"
    }
   ],
   "source": [
    "df_contaminantes.head()"
   ]
  },
  {
   "cell_type": "code",
   "execution_count": 14,
   "metadata": {
    "executionInfo": {
     "elapsed": 254,
     "status": "ok",
     "timestamp": 1733413680419,
     "user": {
      "displayName": "GIANFRANCO MOISES POMA CANCHARI",
      "userId": "10893674760892897654"
     },
     "user_tz": 300
    },
    "id": "_y0Z11ht-Py6"
   },
   "outputs": [],
   "source": [
    "#Librerias necesarias  para imputar datos por datos nulos\n",
    "\n",
    "import numpy as np\n",
    "from sklearn.experimental import enable_iterative_imputer\n",
    "from sklearn.impute import IterativeImputer\n",
    "from sklearn.ensemble import RandomForestRegressor"
   ]
  },
  {
   "cell_type": "code",
   "execution_count": 15,
   "metadata": {
    "colab": {
     "base_uri": "https://localhost:8080/"
    },
    "executionInfo": {
     "elapsed": 301,
     "status": "ok",
     "timestamp": 1733413888978,
     "user": {
      "displayName": "GIANFRANCO MOISES POMA CANCHARI",
      "userId": "10893674760892897654"
     },
     "user_tz": 300
    },
    "id": "hnPnVE1FhKz3",
    "outputId": "ef628bac-b6c5-4e52-930d-00a2e2a30aed"
   },
   "outputs": [
    {
     "data": {
      "text/plain": [
       "(76739, 13)"
      ]
     },
     "execution_count": 15,
     "metadata": {},
     "output_type": "execute_result"
    }
   ],
   "source": [
    "df_contaminantes.shape"
   ]
  },
  {
   "cell_type": "code",
   "execution_count": 16,
   "metadata": {
    "colab": {
     "base_uri": "https://localhost:8080/",
     "height": 491
    },
    "executionInfo": {
     "elapsed": 4,
     "status": "ok",
     "timestamp": 1733413943991,
     "user": {
      "displayName": "GIANFRANCO MOISES POMA CANCHARI",
      "userId": "10893674760892897654"
     },
     "user_tz": 300
    },
    "id": "37o7pZsuhO-G",
    "outputId": "f1884278-8d04-420b-b659-f615083fcecb"
   },
   "outputs": [
    {
     "data": {
      "text/plain": [
       "ANO                        0.000000\n",
       "MES                        0.000000\n",
       "DIA                        0.000000\n",
       "HORA                       0.000000\n",
       "PM 10                     21.195220\n",
       "PM 2.5                    34.175582\n",
       "SO2                       43.414691\n",
       "NO2                       29.047811\n",
       "O3                        20.129269\n",
       "CO                        29.278463\n",
       "ATE                        0.000000\n",
       "SANTA ANITA                0.000000\n",
       "SAN JUAN DE LURIGANCHO     0.000000\n",
       "dtype: float64"
      ]
     },
     "execution_count": 16,
     "metadata": {},
     "output_type": "execute_result"
    }
   ],
   "source": [
    "100*df_contaminantes.isnull().sum() / df_contaminantes.shape[0]"
   ]
  },
  {
   "cell_type": "code",
   "execution_count": 17,
   "metadata": {
    "colab": {
     "base_uri": "https://localhost:8080/"
    },
    "executionInfo": {
     "elapsed": 671028,
     "status": "ok",
     "timestamp": 1733415040682,
     "user": {
      "displayName": "GIANFRANCO MOISES POMA CANCHARI",
      "userId": "10893674760892897654"
     },
     "user_tz": 300
    },
    "id": "sb8R0pj79wWS",
    "outputId": "387fbf56-db55-4dcd-bfa1-8ec8a3ab6c05"
   },
   "outputs": [
    {
     "name": "stdout",
     "output_type": "stream",
     "text": [
      "\n",
      "Datos imputados:\n",
      "          ANO  MES   DIA  HORA     PM 10   PM 2.5     SO2     NO2   O3  \\\n",
      "0      2017.0  1.0   1.0   0.0  421.9000  255.830  54.700  37.015  1.9   \n",
      "1      2017.0  1.0   1.0   1.0  382.9000  270.650  53.500  38.380  1.7   \n",
      "2      2017.0  1.0   1.0   2.0  403.4000  280.360  54.200  46.520  2.1   \n",
      "3      2017.0  1.0   1.0   3.0  425.0000  285.555  52.000  44.640  2.4   \n",
      "4      2017.0  1.0   1.0   4.0  289.3000  171.070  47.900  36.545  1.4   \n",
      "...       ...  ...   ...   ...       ...      ...     ...     ...  ...   \n",
      "76734  2020.0  9.0  30.0  19.0   31.9780   15.030  23.670  23.450  3.5   \n",
      "76735  2020.0  9.0  30.0  20.0   20.8800   13.330  23.465  22.145  3.6   \n",
      "76736  2020.0  9.0  30.0  21.0   54.5810   20.490  23.065  11.200  3.5   \n",
      "76737  2020.0  9.0  30.0  22.0   59.7975   24.550  23.425  22.695  3.7   \n",
      "76738  2020.0  9.0  30.0  23.0   52.7285   17.770  23.275  16.985  3.6   \n",
      "\n",
      "           CO  ATE  SANTA ANITA  SAN JUAN DE LURIGANCHO  \n",
      "0       885.5  1.0          0.0                     0.0  \n",
      "1      1046.5  1.0          0.0                     0.0  \n",
      "2      1342.0  1.0          0.0                     0.0  \n",
      "3      1431.8  1.0          0.0                     0.0  \n",
      "4      1138.5  1.0          0.0                     0.0  \n",
      "...       ...  ...          ...                     ...  \n",
      "76734  1007.4  0.0          0.0                     1.0  \n",
      "76735   962.5  0.0          0.0                     1.0  \n",
      "76736   869.4  0.0          0.0                     1.0  \n",
      "76737   861.3  0.0          0.0                     1.0  \n",
      "76738   830.3  0.0          0.0                     1.0  \n",
      "\n",
      "[76739 rows x 13 columns]\n"
     ]
    },
    {
     "name": "stderr",
     "output_type": "stream",
     "text": [
      "d:\\Anaconda\\anaconda3\\Lib\\site-packages\\sklearn\\impute\\_iterative.py:801: ConvergenceWarning: [IterativeImputer] Early stopping criterion not reached.\n",
      "  warnings.warn(\n"
     ]
    }
   ],
   "source": [
    "# hare una tecnica de imputador de valores\n",
    "\n",
    "imputer = IterativeImputer(\n",
    "    estimator=RandomForestRegressor(n_estimators=20, random_state=42),\n",
    "    max_iter=5,  # Número de iteraciones para la imputación\n",
    "    random_state=42\n",
    ")\n",
    "\n",
    "# Aplicar imputación\n",
    "df_imputed = imputer.fit_transform(df_contaminantes)\n",
    "\n",
    "# Convertir a DataFrame para visualizar el resultado\n",
    "df_imputed = pd.DataFrame(df_imputed, columns=df_contaminantes.columns)\n",
    "\n",
    "print(\"\\nDatos imputados:\")\n",
    "print(df_imputed)\n"
   ]
  },
  {
   "cell_type": "markdown",
   "metadata": {
    "id": "j6H8fjhmIvZ_"
   },
   "source": [
    "Vemos que ya no hay nulos en nuestro dataset"
   ]
  },
  {
   "cell_type": "code",
   "execution_count": 18,
   "metadata": {
    "colab": {
     "base_uri": "https://localhost:8080/",
     "height": 491
    },
    "executionInfo": {
     "elapsed": 5,
     "status": "ok",
     "timestamp": 1733415377753,
     "user": {
      "displayName": "GIANFRANCO MOISES POMA CANCHARI",
      "userId": "10893674760892897654"
     },
     "user_tz": 300
    },
    "id": "tiH5-TaKmzwr",
    "outputId": "b4fb1241-415b-45c3-f320-56a5a4331fb8"
   },
   "outputs": [
    {
     "data": {
      "text/plain": [
       "ANO                       0.0\n",
       "MES                       0.0\n",
       "DIA                       0.0\n",
       "HORA                      0.0\n",
       "PM 10                     0.0\n",
       "PM 2.5                    0.0\n",
       "SO2                       0.0\n",
       "NO2                       0.0\n",
       "O3                        0.0\n",
       "CO                        0.0\n",
       "ATE                       0.0\n",
       "SANTA ANITA               0.0\n",
       "SAN JUAN DE LURIGANCHO    0.0\n",
       "dtype: float64"
      ]
     },
     "execution_count": 18,
     "metadata": {},
     "output_type": "execute_result"
    }
   ],
   "source": [
    "# Verificamos en df_imputed\n",
    "100*df_imputed.isnull().sum() / df_imputed.shape[0]"
   ]
  },
  {
   "cell_type": "code",
   "execution_count": 19,
   "metadata": {},
   "outputs": [
    {
     "data": {
      "text/plain": [
       "0"
      ]
     },
     "execution_count": 19,
     "metadata": {},
     "output_type": "execute_result"
    }
   ],
   "source": [
    "nombre_columna = 'SO2' \n",
    "num_ceros = (df_imputed[nombre_columna] == 0).sum()\n",
    "num_ceros"
   ]
  },
  {
   "cell_type": "markdown",
   "metadata": {
    "id": "b-QXJlRGMPB3"
   },
   "source": [
    "## Corrección de valores inconsistentes y outliers"
   ]
  },
  {
   "cell_type": "markdown",
   "metadata": {
    "id": "C1V2UtjcVIqB"
   },
   "source": [
    "Buscamos inconsistencias en las variables. Para ello, mostramos los descriptivos estadísticos"
   ]
  },
  {
   "cell_type": "code",
   "execution_count": 20,
   "metadata": {
    "colab": {
     "base_uri": "https://localhost:8080/",
     "height": 488
    },
    "executionInfo": {
     "elapsed": 301,
     "status": "ok",
     "timestamp": 1727369963285,
     "user": {
      "displayName": "EDWIN RAFAEL VILLANUEVA TALAVERA",
      "userId": "14475481775736332436"
     },
     "user_tz": 300
    },
    "id": "98WJuyDXwqy4",
    "outputId": "c1b73ca7-0706-4dcc-9f3a-54485324e37a"
   },
   "outputs": [
    {
     "data": {
      "text/html": [
       "<div>\n",
       "<style scoped>\n",
       "    .dataframe tbody tr th:only-of-type {\n",
       "        vertical-align: middle;\n",
       "    }\n",
       "\n",
       "    .dataframe tbody tr th {\n",
       "        vertical-align: top;\n",
       "    }\n",
       "\n",
       "    .dataframe thead th {\n",
       "        text-align: right;\n",
       "    }\n",
       "</style>\n",
       "<table border=\"1\" class=\"dataframe\">\n",
       "  <thead>\n",
       "    <tr style=\"text-align: right;\">\n",
       "      <th></th>\n",
       "      <th>count</th>\n",
       "      <th>mean</th>\n",
       "      <th>std</th>\n",
       "      <th>min</th>\n",
       "      <th>25%</th>\n",
       "      <th>50%</th>\n",
       "      <th>75%</th>\n",
       "      <th>max</th>\n",
       "    </tr>\n",
       "  </thead>\n",
       "  <tbody>\n",
       "    <tr>\n",
       "      <th>ANO</th>\n",
       "      <td>76739.0</td>\n",
       "      <td>2018.230717</td>\n",
       "      <td>1.061126</td>\n",
       "      <td>2017.00</td>\n",
       "      <td>2017.000</td>\n",
       "      <td>2018.0000</td>\n",
       "      <td>2019.0000</td>\n",
       "      <td>2020.0</td>\n",
       "    </tr>\n",
       "    <tr>\n",
       "      <th>MES</th>\n",
       "      <td>76739.0</td>\n",
       "      <td>6.385710</td>\n",
       "      <td>3.351801</td>\n",
       "      <td>1.00</td>\n",
       "      <td>4.000</td>\n",
       "      <td>6.0000</td>\n",
       "      <td>9.0000</td>\n",
       "      <td>12.0</td>\n",
       "    </tr>\n",
       "    <tr>\n",
       "      <th>DIA</th>\n",
       "      <td>76739.0</td>\n",
       "      <td>15.612557</td>\n",
       "      <td>8.744100</td>\n",
       "      <td>1.00</td>\n",
       "      <td>8.000</td>\n",
       "      <td>16.0000</td>\n",
       "      <td>23.0000</td>\n",
       "      <td>31.0</td>\n",
       "    </tr>\n",
       "    <tr>\n",
       "      <th>HORA</th>\n",
       "      <td>76739.0</td>\n",
       "      <td>11.505284</td>\n",
       "      <td>6.919384</td>\n",
       "      <td>0.00</td>\n",
       "      <td>6.000</td>\n",
       "      <td>12.0000</td>\n",
       "      <td>18.0000</td>\n",
       "      <td>23.0</td>\n",
       "    </tr>\n",
       "    <tr>\n",
       "      <th>PM 10</th>\n",
       "      <td>76739.0</td>\n",
       "      <td>84.899967</td>\n",
       "      <td>50.578532</td>\n",
       "      <td>5.06</td>\n",
       "      <td>51.417</td>\n",
       "      <td>76.8100</td>\n",
       "      <td>108.1000</td>\n",
       "      <td>931.0</td>\n",
       "    </tr>\n",
       "    <tr>\n",
       "      <th>PM 2.5</th>\n",
       "      <td>76739.0</td>\n",
       "      <td>34.690394</td>\n",
       "      <td>22.014643</td>\n",
       "      <td>1.73</td>\n",
       "      <td>20.960</td>\n",
       "      <td>30.2905</td>\n",
       "      <td>42.7000</td>\n",
       "      <td>786.9</td>\n",
       "    </tr>\n",
       "    <tr>\n",
       "      <th>SO2</th>\n",
       "      <td>76739.0</td>\n",
       "      <td>16.987005</td>\n",
       "      <td>18.192930</td>\n",
       "      <td>0.10</td>\n",
       "      <td>6.400</td>\n",
       "      <td>11.0500</td>\n",
       "      <td>18.1250</td>\n",
       "      <td>193.4</td>\n",
       "    </tr>\n",
       "    <tr>\n",
       "      <th>NO2</th>\n",
       "      <td>76739.0</td>\n",
       "      <td>30.467481</td>\n",
       "      <td>19.150856</td>\n",
       "      <td>0.00</td>\n",
       "      <td>15.900</td>\n",
       "      <td>27.1000</td>\n",
       "      <td>40.4375</td>\n",
       "      <td>231.2</td>\n",
       "    </tr>\n",
       "    <tr>\n",
       "      <th>O3</th>\n",
       "      <td>76739.0</td>\n",
       "      <td>10.929292</td>\n",
       "      <td>12.912764</td>\n",
       "      <td>0.10</td>\n",
       "      <td>2.300</td>\n",
       "      <td>5.7050</td>\n",
       "      <td>14.8000</td>\n",
       "      <td>152.6</td>\n",
       "    </tr>\n",
       "    <tr>\n",
       "      <th>CO</th>\n",
       "      <td>76739.0</td>\n",
       "      <td>1434.078210</td>\n",
       "      <td>960.253023</td>\n",
       "      <td>21.80</td>\n",
       "      <td>715.850</td>\n",
       "      <td>1175.3000</td>\n",
       "      <td>1945.9325</td>\n",
       "      <td>5225.6</td>\n",
       "    </tr>\n",
       "    <tr>\n",
       "      <th>ATE</th>\n",
       "      <td>76739.0</td>\n",
       "      <td>0.266748</td>\n",
       "      <td>0.442263</td>\n",
       "      <td>0.00</td>\n",
       "      <td>0.000</td>\n",
       "      <td>0.0000</td>\n",
       "      <td>1.0000</td>\n",
       "      <td>1.0</td>\n",
       "    </tr>\n",
       "    <tr>\n",
       "      <th>SANTA ANITA</th>\n",
       "      <td>76739.0</td>\n",
       "      <td>0.338746</td>\n",
       "      <td>0.473286</td>\n",
       "      <td>0.00</td>\n",
       "      <td>0.000</td>\n",
       "      <td>0.0000</td>\n",
       "      <td>1.0000</td>\n",
       "      <td>1.0</td>\n",
       "    </tr>\n",
       "    <tr>\n",
       "      <th>SAN JUAN DE LURIGANCHO</th>\n",
       "      <td>76739.0</td>\n",
       "      <td>0.394506</td>\n",
       "      <td>0.488748</td>\n",
       "      <td>0.00</td>\n",
       "      <td>0.000</td>\n",
       "      <td>0.0000</td>\n",
       "      <td>1.0000</td>\n",
       "      <td>1.0</td>\n",
       "    </tr>\n",
       "  </tbody>\n",
       "</table>\n",
       "</div>"
      ],
      "text/plain": [
       "                          count         mean         std      min       25%  \\\n",
       "ANO                     76739.0  2018.230717    1.061126  2017.00  2017.000   \n",
       "MES                     76739.0     6.385710    3.351801     1.00     4.000   \n",
       "DIA                     76739.0    15.612557    8.744100     1.00     8.000   \n",
       "HORA                    76739.0    11.505284    6.919384     0.00     6.000   \n",
       "PM 10                   76739.0    84.899967   50.578532     5.06    51.417   \n",
       "PM 2.5                  76739.0    34.690394   22.014643     1.73    20.960   \n",
       "SO2                     76739.0    16.987005   18.192930     0.10     6.400   \n",
       "NO2                     76739.0    30.467481   19.150856     0.00    15.900   \n",
       "O3                      76739.0    10.929292   12.912764     0.10     2.300   \n",
       "CO                      76739.0  1434.078210  960.253023    21.80   715.850   \n",
       "ATE                     76739.0     0.266748    0.442263     0.00     0.000   \n",
       "SANTA ANITA             76739.0     0.338746    0.473286     0.00     0.000   \n",
       "SAN JUAN DE LURIGANCHO  76739.0     0.394506    0.488748     0.00     0.000   \n",
       "\n",
       "                              50%        75%     max  \n",
       "ANO                     2018.0000  2019.0000  2020.0  \n",
       "MES                        6.0000     9.0000    12.0  \n",
       "DIA                       16.0000    23.0000    31.0  \n",
       "HORA                      12.0000    18.0000    23.0  \n",
       "PM 10                     76.8100   108.1000   931.0  \n",
       "PM 2.5                    30.2905    42.7000   786.9  \n",
       "SO2                       11.0500    18.1250   193.4  \n",
       "NO2                       27.1000    40.4375   231.2  \n",
       "O3                         5.7050    14.8000   152.6  \n",
       "CO                      1175.3000  1945.9325  5225.6  \n",
       "ATE                        0.0000     1.0000     1.0  \n",
       "SANTA ANITA                0.0000     1.0000     1.0  \n",
       "SAN JUAN DE LURIGANCHO     0.0000     1.0000     1.0  "
      ]
     },
     "execution_count": 20,
     "metadata": {},
     "output_type": "execute_result"
    }
   ],
   "source": [
    "df_imputed.describe().T"
   ]
  },
  {
   "cell_type": "code",
   "execution_count": 21,
   "metadata": {
    "colab": {
     "base_uri": "https://localhost:8080/",
     "height": 601
    },
    "executionInfo": {
     "elapsed": 1864,
     "status": "ok",
     "timestamp": 1727369972976,
     "user": {
      "displayName": "EDWIN RAFAEL VILLANUEVA TALAVERA",
      "userId": "14475481775736332436"
     },
     "user_tz": 300
    },
    "id": "8Y9g-O-mcepL",
    "outputId": "a1b65e40-d0de-40b5-b292-704e53e9a4c1"
   },
   "outputs": [
    {
     "data": {
      "image/png": "[encoded data removed]",
      "text/plain": [
       "<Figure size 1200x700 with 15 Axes>"
      ]
     },
     "metadata": {},
     "output_type": "display_data"
    }
   ],
   "source": [
    "# Mostramos boxplots de los features\n",
    "import matplotlib.pyplot as plt\n",
    "df_imputed.plot(kind='box', subplots=True, layout=(3,5), sharex=True, sharey=False,  figsize=[12,7])\n",
    "plt.show()"
   ]
  },
  {
   "cell_type": "code",
   "execution_count": null,
   "metadata": {
    "id": "MiujIFNsVQKK"
   },
   "outputs": [],
   "source": []
  },
  {
   "cell_type": "markdown",
   "metadata": {
    "id": "ZIQcMAtBibNh"
   },
   "source": [
    "Podemos  corregir manualmente algunos outliers, usando el criterio de que usuarios no pueden ser menores de edad o mayores de 80"
   ]
  },
  {
   "cell_type": "code",
   "execution_count": null,
   "metadata": {
    "id": "fFtjds-Ziaen"
   },
   "outputs": [],
   "source": []
  },
  {
   "cell_type": "code",
   "execution_count": null,
   "metadata": {
    "colab": {
     "base_uri": "https://localhost:8080/",
     "height": 291
    },
    "executionInfo": {
     "elapsed": 410,
     "status": "ok",
     "timestamp": 1727370102777,
     "user": {
      "displayName": "EDWIN RAFAEL VILLANUEVA TALAVERA",
      "userId": "14475481775736332436"
     },
     "user_tz": 300
    },
    "id": "jTb_zaCmis8N",
    "outputId": "b80aa640-36c3-4f4f-e766-1054ab820343"
   },
   "outputs": [
    {
     "data": {
      "image/png": "[encoded data removed]",
      "text/plain": [
       "<Figure size 300x300 with 1 Axes>"
      ]
     },
     "metadata": {},
     "output_type": "display_data"
    }
   ],
   "source": []
  },
  {
   "cell_type": "markdown",
   "metadata": {
    "id": "ULH__W8ni5oO"
   },
   "source": [
    "Veamos la corrección de la columna CAPDEUDA usando los valores extremos del boxplot"
   ]
  },
  {
   "cell_type": "code",
   "execution_count": null,
   "metadata": {
    "id": "T7_m_sO1Vz4m"
   },
   "outputs": [],
   "source": []
  },
  {
   "cell_type": "code",
   "execution_count": null,
   "metadata": {
    "colab": {
     "base_uri": "https://localhost:8080/",
     "height": 291
    },
    "executionInfo": {
     "elapsed": 368,
     "status": "ok",
     "timestamp": 1727370192728,
     "user": {
      "displayName": "EDWIN RAFAEL VILLANUEVA TALAVERA",
      "userId": "14475481775736332436"
     },
     "user_tz": 300
    },
    "id": "CaEyC4_pnxvh",
    "outputId": "3a71e961-3c0b-4a42-f5e1-953ba7ed8cd0"
   },
   "outputs": [
    {
     "data": {
      "image/png": "[encoded data removed]",
      "text/plain": [
       "<Figure size 300x300 with 1 Axes>"
      ]
     },
     "metadata": {},
     "output_type": "display_data"
    }
   ],
   "source": []
  },
  {
   "cell_type": "markdown",
   "metadata": {
    "id": "vQKRgg99t48Y"
   },
   "source": [
    "Podemos definir una funcion para generalizar la correccion de outliers hecha en CAPDEUDA a cualquier columna numerica"
   ]
  },
  {
   "cell_type": "code",
   "execution_count": null,
   "metadata": {
    "id": "1i-U3vnjXPjS"
   },
   "outputs": [],
   "source": []
  },
  {
   "cell_type": "markdown",
   "metadata": {
    "id": "A26jKd9AoEoT"
   },
   "source": [
    "Cualquier valor, que esté más allá del rango de -1.5 x IQR a 1.5 x IQR es considerado outlier"
   ]
  },
  {
   "cell_type": "code",
   "execution_count": null,
   "metadata": {
    "id": "buT183IYoTV1"
   },
   "outputs": [],
   "source": []
  },
  {
   "cell_type": "code",
   "execution_count": null,
   "metadata": {
    "id": "kSBatPwcgpYl"
   },
   "outputs": [],
   "source": []
  },
  {
   "cell_type": "code",
   "execution_count": null,
   "metadata": {
    "colab": {
     "base_uri": "https://localhost:8080/",
     "height": 602
    },
    "executionInfo": {
     "elapsed": 2310,
     "status": "ok",
     "timestamp": 1727370251421,
     "user": {
      "displayName": "EDWIN RAFAEL VILLANUEVA TALAVERA",
      "userId": "14475481775736332436"
     },
     "user_tz": 300
    },
    "id": "hqTe6fF5ptEJ",
    "outputId": "d4338963-c81a-41ca-de96-81c0b03a3549"
   },
   "outputs": [
    {
     "data": {
      "image/png": "[encoded data removed]",
      "text/plain": [
       "<Figure size 1200x700 with 15 Axes>"
      ]
     },
     "metadata": {},
     "output_type": "display_data"
    }
   ],
   "source": []
  },
  {
   "cell_type": "code",
   "execution_count": null,
   "metadata": {
    "colab": {
     "base_uri": "https://localhost:8080/"
    },
    "executionInfo": {
     "elapsed": 357,
     "status": "ok",
     "timestamp": 1727370261442,
     "user": {
      "displayName": "EDWIN RAFAEL VILLANUEVA TALAVERA",
      "userId": "14475481775736332436"
     },
     "user_tz": 300
    },
    "id": "BryWeBz9Y10i",
    "outputId": "b0efa641-aeec-49b0-a389-aa4a9a14f24e"
   },
   "outputs": [
    {
     "data": {
      "text/plain": [
       "0.522134627046695"
      ]
     },
     "execution_count": 36,
     "metadata": {},
     "output_type": "execute_result"
    }
   ],
   "source": []
  },
  {
   "cell_type": "code",
   "execution_count": 23,
   "metadata": {
    "id": "PwskK4aTaZ28"
   },
   "outputs": [],
   "source": [
    "\n",
    "# Cargar el dataset (adaptar si tu archivo tiene otro formato)\n",
    "data = df_imputed\n",
    "# Ejemplo de tablas de rangos AQI (personalizar según normativa local o EPA)\n",
    "aqi_breakpoints = {\n",
    "    \"PM 10\": [(0, 54, 0, 50), (55, 154, 51, 100), (155, 254, 101, 150), (255, 354, 151, 200)],\n",
    "    \"PM 2.5\": [(0, 12, 0, 50), (12.1, 35.4, 51, 100), (35.5, 55.4, 101, 150), (55.5, 150.4, 151, 200)],\n",
    "    \"SO2\": [(0, 35, 0, 50), (36, 75, 51, 100), (76, 185, 101, 150), (186, 304, 151, 200)],\n",
    "    \"NO2\": [(0, 53, 0, 50), (54, 100, 51, 100), (101, 360, 101, 150), (361, 649, 151, 200)],\n",
    "    \"O3\": [(0, 54, 0, 50), (55, 70, 51, 100), (71, 85, 101, 150), (86, 105, 151, 200)],\n",
    "    \"CO\": [(0, 4.4, 0, 50), (4.5, 9.4, 51, 100), (9.5, 12.4, 101, 150), (12.5, 15.4, 151, 200)],\n",
    "}\n",
    "\n",
    "# Función para calcular AQI por contaminante\n",
    "def calculate_aqi(concentration, breakpoints):\n",
    "    for bp in breakpoints:\n",
    "        if bp[0] <= concentration <= bp[1]:\n",
    "            return ((bp[3] - bp[2]) / (bp[1] - bp[0])) * (concentration - bp[0]) + bp[2]\n",
    "    return np.nan  # Si está fuera de rango\n",
    "\n",
    "# Calcular AQI para cada contaminante\n",
    "for pollutant, breakpoints in aqi_breakpoints.items():\n",
    "    data[f\"AQI_{pollutant}\"] = data[pollutant].apply(lambda x: calculate_aqi(x, breakpoints) if not pd.isna(x) else np.nan)\n",
    "\n",
    "# Calcular el AQI final como el valor máximo\n",
    "data[\"AQI\"] = data[[f\"AQI_{pollutant}\" for pollutant in aqi_breakpoints.keys()]].max(axis=1)\n",
    "\n",
    "df_imputed = data"
   ]
  },
  {
   "cell_type": "code",
   "execution_count": 24,
   "metadata": {},
   "outputs": [
    {
     "data": {
      "text/html": [
       "<div>\n",
       "<style scoped>\n",
       "    .dataframe tbody tr th:only-of-type {\n",
       "        vertical-align: middle;\n",
       "    }\n",
       "\n",
       "    .dataframe tbody tr th {\n",
       "        vertical-align: top;\n",
       "    }\n",
       "\n",
       "    .dataframe thead th {\n",
       "        text-align: right;\n",
       "    }\n",
       "</style>\n",
       "<table border=\"1\" class=\"dataframe\">\n",
       "  <thead>\n",
       "    <tr style=\"text-align: right;\">\n",
       "      <th></th>\n",
       "      <th>ANO</th>\n",
       "      <th>MES</th>\n",
       "      <th>DIA</th>\n",
       "      <th>HORA</th>\n",
       "      <th>PM 10</th>\n",
       "      <th>PM 2.5</th>\n",
       "      <th>SO2</th>\n",
       "      <th>NO2</th>\n",
       "      <th>O3</th>\n",
       "      <th>CO</th>\n",
       "      <th>ATE</th>\n",
       "      <th>SANTA ANITA</th>\n",
       "      <th>SAN JUAN DE LURIGANCHO</th>\n",
       "      <th>AQI_PM 10</th>\n",
       "      <th>AQI_PM 2.5</th>\n",
       "      <th>AQI_SO2</th>\n",
       "      <th>AQI_NO2</th>\n",
       "      <th>AQI_O3</th>\n",
       "      <th>AQI_CO</th>\n",
       "      <th>AQI</th>\n",
       "    </tr>\n",
       "  </thead>\n",
       "  <tbody>\n",
       "    <tr>\n",
       "      <th>0</th>\n",
       "      <td>2017.0</td>\n",
       "      <td>1.0</td>\n",
       "      <td>1.0</td>\n",
       "      <td>0.0</td>\n",
       "      <td>421.9000</td>\n",
       "      <td>255.830</td>\n",
       "      <td>54.700</td>\n",
       "      <td>37.015</td>\n",
       "      <td>1.9</td>\n",
       "      <td>885.5</td>\n",
       "      <td>1.0</td>\n",
       "      <td>0.0</td>\n",
       "      <td>0.0</td>\n",
       "      <td>NaN</td>\n",
       "      <td>NaN</td>\n",
       "      <td>74.494872</td>\n",
       "      <td>34.919811</td>\n",
       "      <td>1.759259</td>\n",
       "      <td>NaN</td>\n",
       "      <td>74.494872</td>\n",
       "    </tr>\n",
       "    <tr>\n",
       "      <th>1</th>\n",
       "      <td>2017.0</td>\n",
       "      <td>1.0</td>\n",
       "      <td>1.0</td>\n",
       "      <td>1.0</td>\n",
       "      <td>382.9000</td>\n",
       "      <td>270.650</td>\n",
       "      <td>53.500</td>\n",
       "      <td>38.380</td>\n",
       "      <td>1.7</td>\n",
       "      <td>1046.5</td>\n",
       "      <td>1.0</td>\n",
       "      <td>0.0</td>\n",
       "      <td>0.0</td>\n",
       "      <td>NaN</td>\n",
       "      <td>NaN</td>\n",
       "      <td>72.987179</td>\n",
       "      <td>36.207547</td>\n",
       "      <td>1.574074</td>\n",
       "      <td>NaN</td>\n",
       "      <td>72.987179</td>\n",
       "    </tr>\n",
       "    <tr>\n",
       "      <th>2</th>\n",
       "      <td>2017.0</td>\n",
       "      <td>1.0</td>\n",
       "      <td>1.0</td>\n",
       "      <td>2.0</td>\n",
       "      <td>403.4000</td>\n",
       "      <td>280.360</td>\n",
       "      <td>54.200</td>\n",
       "      <td>46.520</td>\n",
       "      <td>2.1</td>\n",
       "      <td>1342.0</td>\n",
       "      <td>1.0</td>\n",
       "      <td>0.0</td>\n",
       "      <td>0.0</td>\n",
       "      <td>NaN</td>\n",
       "      <td>NaN</td>\n",
       "      <td>73.866667</td>\n",
       "      <td>43.886792</td>\n",
       "      <td>1.944444</td>\n",
       "      <td>NaN</td>\n",
       "      <td>73.866667</td>\n",
       "    </tr>\n",
       "    <tr>\n",
       "      <th>3</th>\n",
       "      <td>2017.0</td>\n",
       "      <td>1.0</td>\n",
       "      <td>1.0</td>\n",
       "      <td>3.0</td>\n",
       "      <td>425.0000</td>\n",
       "      <td>285.555</td>\n",
       "      <td>52.000</td>\n",
       "      <td>44.640</td>\n",
       "      <td>2.4</td>\n",
       "      <td>1431.8</td>\n",
       "      <td>1.0</td>\n",
       "      <td>0.0</td>\n",
       "      <td>0.0</td>\n",
       "      <td>NaN</td>\n",
       "      <td>NaN</td>\n",
       "      <td>71.102564</td>\n",
       "      <td>42.113208</td>\n",
       "      <td>2.222222</td>\n",
       "      <td>NaN</td>\n",
       "      <td>71.102564</td>\n",
       "    </tr>\n",
       "    <tr>\n",
       "      <th>4</th>\n",
       "      <td>2017.0</td>\n",
       "      <td>1.0</td>\n",
       "      <td>1.0</td>\n",
       "      <td>4.0</td>\n",
       "      <td>289.3000</td>\n",
       "      <td>171.070</td>\n",
       "      <td>47.900</td>\n",
       "      <td>36.545</td>\n",
       "      <td>1.4</td>\n",
       "      <td>1138.5</td>\n",
       "      <td>1.0</td>\n",
       "      <td>0.0</td>\n",
       "      <td>0.0</td>\n",
       "      <td>167.976768</td>\n",
       "      <td>NaN</td>\n",
       "      <td>65.951282</td>\n",
       "      <td>34.476415</td>\n",
       "      <td>1.296296</td>\n",
       "      <td>NaN</td>\n",
       "      <td>167.976768</td>\n",
       "    </tr>\n",
       "    <tr>\n",
       "      <th>...</th>\n",
       "      <td>...</td>\n",
       "      <td>...</td>\n",
       "      <td>...</td>\n",
       "      <td>...</td>\n",
       "      <td>...</td>\n",
       "      <td>...</td>\n",
       "      <td>...</td>\n",
       "      <td>...</td>\n",
       "      <td>...</td>\n",
       "      <td>...</td>\n",
       "      <td>...</td>\n",
       "      <td>...</td>\n",
       "      <td>...</td>\n",
       "      <td>...</td>\n",
       "      <td>...</td>\n",
       "      <td>...</td>\n",
       "      <td>...</td>\n",
       "      <td>...</td>\n",
       "      <td>...</td>\n",
       "      <td>...</td>\n",
       "    </tr>\n",
       "    <tr>\n",
       "      <th>76734</th>\n",
       "      <td>2020.0</td>\n",
       "      <td>9.0</td>\n",
       "      <td>30.0</td>\n",
       "      <td>19.0</td>\n",
       "      <td>31.9780</td>\n",
       "      <td>15.030</td>\n",
       "      <td>23.670</td>\n",
       "      <td>23.450</td>\n",
       "      <td>3.5</td>\n",
       "      <td>1007.4</td>\n",
       "      <td>0.0</td>\n",
       "      <td>0.0</td>\n",
       "      <td>1.0</td>\n",
       "      <td>29.609259</td>\n",
       "      <td>57.161803</td>\n",
       "      <td>33.814286</td>\n",
       "      <td>22.122642</td>\n",
       "      <td>3.240741</td>\n",
       "      <td>NaN</td>\n",
       "      <td>57.161803</td>\n",
       "    </tr>\n",
       "    <tr>\n",
       "      <th>76735</th>\n",
       "      <td>2020.0</td>\n",
       "      <td>9.0</td>\n",
       "      <td>30.0</td>\n",
       "      <td>20.0</td>\n",
       "      <td>20.8800</td>\n",
       "      <td>13.330</td>\n",
       "      <td>23.465</td>\n",
       "      <td>22.145</td>\n",
       "      <td>3.6</td>\n",
       "      <td>962.5</td>\n",
       "      <td>0.0</td>\n",
       "      <td>0.0</td>\n",
       "      <td>1.0</td>\n",
       "      <td>19.333333</td>\n",
       "      <td>53.586695</td>\n",
       "      <td>33.521429</td>\n",
       "      <td>20.891509</td>\n",
       "      <td>3.333333</td>\n",
       "      <td>NaN</td>\n",
       "      <td>53.586695</td>\n",
       "    </tr>\n",
       "    <tr>\n",
       "      <th>76736</th>\n",
       "      <td>2020.0</td>\n",
       "      <td>9.0</td>\n",
       "      <td>30.0</td>\n",
       "      <td>21.0</td>\n",
       "      <td>54.5810</td>\n",
       "      <td>20.490</td>\n",
       "      <td>23.065</td>\n",
       "      <td>11.200</td>\n",
       "      <td>3.5</td>\n",
       "      <td>869.4</td>\n",
       "      <td>0.0</td>\n",
       "      <td>0.0</td>\n",
       "      <td>1.0</td>\n",
       "      <td>NaN</td>\n",
       "      <td>68.644206</td>\n",
       "      <td>32.950000</td>\n",
       "      <td>10.566038</td>\n",
       "      <td>3.240741</td>\n",
       "      <td>NaN</td>\n",
       "      <td>68.644206</td>\n",
       "    </tr>\n",
       "    <tr>\n",
       "      <th>76737</th>\n",
       "      <td>2020.0</td>\n",
       "      <td>9.0</td>\n",
       "      <td>30.0</td>\n",
       "      <td>22.0</td>\n",
       "      <td>59.7975</td>\n",
       "      <td>24.550</td>\n",
       "      <td>23.425</td>\n",
       "      <td>22.695</td>\n",
       "      <td>3.7</td>\n",
       "      <td>861.3</td>\n",
       "      <td>0.0</td>\n",
       "      <td>0.0</td>\n",
       "      <td>1.0</td>\n",
       "      <td>53.374520</td>\n",
       "      <td>77.182403</td>\n",
       "      <td>33.464286</td>\n",
       "      <td>21.410377</td>\n",
       "      <td>3.425926</td>\n",
       "      <td>NaN</td>\n",
       "      <td>77.182403</td>\n",
       "    </tr>\n",
       "    <tr>\n",
       "      <th>76738</th>\n",
       "      <td>2020.0</td>\n",
       "      <td>9.0</td>\n",
       "      <td>30.0</td>\n",
       "      <td>23.0</td>\n",
       "      <td>52.7285</td>\n",
       "      <td>17.770</td>\n",
       "      <td>23.275</td>\n",
       "      <td>16.985</td>\n",
       "      <td>3.6</td>\n",
       "      <td>830.3</td>\n",
       "      <td>0.0</td>\n",
       "      <td>0.0</td>\n",
       "      <td>1.0</td>\n",
       "      <td>48.822685</td>\n",
       "      <td>62.924034</td>\n",
       "      <td>33.250000</td>\n",
       "      <td>16.023585</td>\n",
       "      <td>3.333333</td>\n",
       "      <td>NaN</td>\n",
       "      <td>62.924034</td>\n",
       "    </tr>\n",
       "  </tbody>\n",
       "</table>\n",
       "<p>76739 rows × 20 columns</p>\n",
       "</div>"
      ],
      "text/plain": [
       "          ANO  MES   DIA  HORA     PM 10   PM 2.5     SO2     NO2   O3  \\\n",
       "0      2017.0  1.0   1.0   0.0  421.9000  255.830  54.700  37.015  1.9   \n",
       "1      2017.0  1.0   1.0   1.0  382.9000  270.650  53.500  38.380  1.7   \n",
       "2      2017.0  1.0   1.0   2.0  403.4000  280.360  54.200  46.520  2.1   \n",
       "3      2017.0  1.0   1.0   3.0  425.0000  285.555  52.000  44.640  2.4   \n",
       "4      2017.0  1.0   1.0   4.0  289.3000  171.070  47.900  36.545  1.4   \n",
       "...       ...  ...   ...   ...       ...      ...     ...     ...  ...   \n",
       "76734  2020.0  9.0  30.0  19.0   31.9780   15.030  23.670  23.450  3.5   \n",
       "76735  2020.0  9.0  30.0  20.0   20.8800   13.330  23.465  22.145  3.6   \n",
       "76736  2020.0  9.0  30.0  21.0   54.5810   20.490  23.065  11.200  3.5   \n",
       "76737  2020.0  9.0  30.0  22.0   59.7975   24.550  23.425  22.695  3.7   \n",
       "76738  2020.0  9.0  30.0  23.0   52.7285   17.770  23.275  16.985  3.6   \n",
       "\n",
       "           CO  ATE  SANTA ANITA  SAN JUAN DE LURIGANCHO   AQI_PM 10  \\\n",
       "0       885.5  1.0          0.0                     0.0         NaN   \n",
       "1      1046.5  1.0          0.0                     0.0         NaN   \n",
       "2      1342.0  1.0          0.0                     0.0         NaN   \n",
       "3      1431.8  1.0          0.0                     0.0         NaN   \n",
       "4      1138.5  1.0          0.0                     0.0  167.976768   \n",
       "...       ...  ...          ...                     ...         ...   \n",
       "76734  1007.4  0.0          0.0                     1.0   29.609259   \n",
       "76735   962.5  0.0          0.0                     1.0   19.333333   \n",
       "76736   869.4  0.0          0.0                     1.0         NaN   \n",
       "76737   861.3  0.0          0.0                     1.0   53.374520   \n",
       "76738   830.3  0.0          0.0                     1.0   48.822685   \n",
       "\n",
       "       AQI_PM 2.5    AQI_SO2    AQI_NO2    AQI_O3  AQI_CO         AQI  \n",
       "0             NaN  74.494872  34.919811  1.759259     NaN   74.494872  \n",
       "1             NaN  72.987179  36.207547  1.574074     NaN   72.987179  \n",
       "2             NaN  73.866667  43.886792  1.944444     NaN   73.866667  \n",
       "3             NaN  71.102564  42.113208  2.222222     NaN   71.102564  \n",
       "4             NaN  65.951282  34.476415  1.296296     NaN  167.976768  \n",
       "...           ...        ...        ...       ...     ...         ...  \n",
       "76734   57.161803  33.814286  22.122642  3.240741     NaN   57.161803  \n",
       "76735   53.586695  33.521429  20.891509  3.333333     NaN   53.586695  \n",
       "76736   68.644206  32.950000  10.566038  3.240741     NaN   68.644206  \n",
       "76737   77.182403  33.464286  21.410377  3.425926     NaN   77.182403  \n",
       "76738   62.924034  33.250000  16.023585  3.333333     NaN   62.924034  \n",
       "\n",
       "[76739 rows x 20 columns]"
      ]
     },
     "execution_count": 24,
     "metadata": {},
     "output_type": "execute_result"
    }
   ],
   "source": [
    "df_imputed"
   ]
  },
  {
   "cell_type": "code",
   "execution_count": 36,
   "metadata": {},
   "outputs": [
    {
     "name": "stdout",
     "output_type": "stream",
     "text": [
      "    ANO  MES  DIA\n",
      "0  2017    1    1\n",
      "1  2017    1    1\n",
      "2  2017    1    1\n",
      "3  2017    1    1\n",
      "4  2017    1    1\n"
     ]
    }
   ],
   "source": [
    "print(data[[\"ANO\", \"MES\", \"DIA\"]].head())\n"
   ]
  },
  {
   "cell_type": "code",
   "execution_count": 46,
   "metadata": {},
   "outputs": [
    {
     "data": {
      "image/png": "[encoded data removed]",
      "text/plain": [
       "<Figure size 1200x600 with 1 Axes>"
      ]
     },
     "metadata": {},
     "output_type": "display_data"
    },
    {
     "data": {
      "image/png": "[encoded data removed]",
      "text/plain": [
       "<Figure size 1200x600 with 1 Axes>"
      ]
     },
     "metadata": {},
     "output_type": "display_data"
    },
    {
     "data": {
      "image/png": "[encoded data removed]",
      "text/plain": [
       "<Figure size 1200x600 with 1 Axes>"
      ]
     },
     "metadata": {},
     "output_type": "display_data"
    }
   ],
   "source": [
    "data = df_imputed  # Reemplaza con el nombre real del archivo si es un CSV\n",
    "\n",
    "data[\"ANO\"] = data[\"ANO\"].astype(int)\n",
    "data[\"MES\"] = data[\"MES\"].astype(int)\n",
    "data[\"DIA\"] = data[\"DIA\"].astype(int)\n",
    "# Crear la columna de fecha\n",
    "data[\"Fecha\"] = pd.to_datetime(data.rename(columns={\"ANO\": \"year\", \"MES\": \"month\", \"DIA\": \"day\"})[[\"year\", \"month\", \"day\"]])\n",
    "\n",
    "\n",
    "# Configurar el estilo de los gráficos\n",
    "plt.style.use(\"ggplot\")\n",
    "\n",
    "# Gráfico (a): AQI\n",
    "plt.figure(figsize=(12, 6))\n",
    "plt.plot(data[\"Fecha\"], data[\"AQI\"], label=\"Mean AQI\", color=\"blue\", alpha=0.7)\n",
    "plt.title(\"Air Quality Index (AQI) from 2017 to 2020\", fontsize=14)\n",
    "plt.xlabel(\"Date\", fontsize=12)\n",
    "plt.ylabel(\"Mean AQI\", fontsize=12)\n",
    "plt.grid(True, alpha=0.3)\n",
    "plt.tight_layout()\n",
    "plt.show()\n",
    "\n",
    "# Gráfico (b): PM2.5\n",
    "plt.figure(figsize=(12, 6))\n",
    "plt.plot(data[\"Fecha\"], data[\"PM 2.5\"], label=\"Mean PM2.5\", color=\"blue\", alpha=0.7)\n",
    "plt.title(\"Mean PM2.5 Levels from 2017 to 2020\", fontsize=14)\n",
    "plt.xlabel(\"Date\", fontsize=12)\n",
    "plt.ylabel(\"Mean PM2.5 (µg/m³)\", fontsize=12)\n",
    "plt.grid(True, alpha=0.3)\n",
    "plt.tight_layout()\n",
    "plt.show()\n",
    "\n",
    "# Gráfico (c): NO2\n",
    "plt.figure(figsize=(12, 6))\n",
    "plt.plot(data[\"Fecha\"], data[\"NO2\"], label=\"Mean NO2\", color=\"blue\", alpha=0.7)\n",
    "plt.title(\"Mean NO2 Levels from 2017 to 2020\", fontsize=14)\n",
    "plt.xlabel(\"Date\", fontsize=12)\n",
    "plt.ylabel(\"Mean NO2 (ppb)\", fontsize=12)\n",
    "plt.grid(True, alpha=0.3)\n",
    "plt.tight_layout()\n",
    "plt.show()"
   ]
  },
  {
   "cell_type": "code",
   "execution_count": 48,
   "metadata": {},
   "outputs": [
    {
     "data": {
      "image/png": "[encoded data removed]",
      "text/plain": [
       "<Figure size 1000x800 with 2 Axes>"
      ]
     },
     "metadata": {},
     "output_type": "display_data"
    }
   ],
   "source": [
    "import seaborn as sns\n",
    "\n",
    "features = [\"PM 10\", \"PM 2.5\", \"SO2\", \"NO2\", \"O3\", \"CO\", \"AQI\"]\n",
    "\n",
    "# Cálculo de la matriz de correlación\n",
    "correlation_matrix = data[features].corr()\n",
    "\n",
    "# Crear el heatmap\n",
    "plt.figure(figsize=(10, 8))\n",
    "sns.heatmap(correlation_matrix, annot=True, fmt=\".2f\", cmap=\"coolwarm\", cbar=True, square=True)\n",
    "plt.title(\"Heatmap de Correlación entre Características y AQI\", fontsize=16)\n",
    "plt.xticks(fontsize=10, rotation=45)\n",
    "plt.yticks(fontsize=10)\n",
    "plt.tight_layout()\n",
    "plt.show()"
   ]
  },
  {
   "cell_type": "markdown",
   "metadata": {
    "id": "hy7KLPuxAHTg"
   },
   "source": [
    "## Generando la variable TARGET (SEGUN EL ARTICULO ESTO ES AL ULTIMO)\n",
    "Primero, revisamos la distribución de la variable target de predicción, en este caso, la columna CHURN"
   ]
  },
  {
   "cell_type": "code",
   "execution_count": null,
   "metadata": {
    "colab": {
     "base_uri": "https://localhost:8080/",
     "height": 209
    },
    "executionInfo": {
     "elapsed": 353,
     "status": "ok",
     "timestamp": 1727369393957,
     "user": {
      "displayName": "EDWIN RAFAEL VILLANUEVA TALAVERA",
      "userId": "14475481775736332436"
     },
     "user_tz": 300
    },
    "id": "ZuwLLGvr3H6H",
    "outputId": "66470b01-c1c1-4a27-cd31-5c5266a3a767"
   },
   "outputs": [
    {
     "data": {
      "text/html": [
       "<div>\n",
       "<style scoped>\n",
       "    .dataframe tbody tr th:only-of-type {\n",
       "        vertical-align: middle;\n",
       "    }\n",
       "\n",
       "    .dataframe tbody tr th {\n",
       "        vertical-align: top;\n",
       "    }\n",
       "\n",
       "    .dataframe thead th {\n",
       "        text-align: right;\n",
       "    }\n",
       "</style>\n",
       "<table border=\"1\" class=\"dataframe\">\n",
       "  <thead>\n",
       "    <tr style=\"text-align: right;\">\n",
       "      <th></th>\n",
       "      <th>count</th>\n",
       "    </tr>\n",
       "    <tr>\n",
       "      <th>CHURN</th>\n",
       "      <th></th>\n",
       "    </tr>\n",
       "  </thead>\n",
       "  <tbody>\n",
       "    <tr>\n",
       "      <th>1</th>\n",
       "      <td>1672</td>\n",
       "    </tr>\n",
       "    <tr>\n",
       "      <th>2</th>\n",
       "      <td>1668</td>\n",
       "    </tr>\n",
       "    <tr>\n",
       "      <th>0</th>\n",
       "      <td>1660</td>\n",
       "    </tr>\n",
       "  </tbody>\n",
       "</table>\n",
       "</div><br><label><b>dtype:</b> int64</label>"
      ],
      "text/plain": [
       "CHURN\n",
       "1    1672\n",
       "2    1668\n",
       "0    1660\n",
       "Name: count, dtype: int64"
      ]
     },
     "execution_count": 4,
     "metadata": {},
     "output_type": "execute_result"
    }
   ],
   "source": [
    "df.CHURN.value_counts()"
   ]
  },
  {
   "cell_type": "markdown",
   "metadata": {
    "id": "cVIGFblLAVzb"
   },
   "source": [
    "Como solo queremos predecir si el cliente se va a ir o no, transformamos la variable para que sea binaria. Asi, se simplifica el problema a clasificación binaria. Creamos un nuevo atributo 'TARGET' y asignamos el valor 1 si el cliente se fué (valor 0 en la columna CHURN) y valor 0 si el cliente no se fue (valores 1 o 2 en CHURN)."
   ]
  },
  {
   "cell_type": "code",
   "execution_count": null,
   "metadata": {
    "colab": {
     "base_uri": "https://localhost:8080/",
     "height": 178
    },
    "executionInfo": {
     "elapsed": 391,
     "status": "ok",
     "timestamp": 1727369462869,
     "user": {
      "displayName": "EDWIN RAFAEL VILLANUEVA TALAVERA",
      "userId": "14475481775736332436"
     },
     "user_tz": 300
    },
    "id": "whmA5YFlANon",
    "outputId": "db4edde7-0486-4753-8039-2c3b94c3a1a3"
   },
   "outputs": [
    {
     "data": {
      "text/html": [
       "<div>\n",
       "<style scoped>\n",
       "    .dataframe tbody tr th:only-of-type {\n",
       "        vertical-align: middle;\n",
       "    }\n",
       "\n",
       "    .dataframe tbody tr th {\n",
       "        vertical-align: top;\n",
       "    }\n",
       "\n",
       "    .dataframe thead th {\n",
       "        text-align: right;\n",
       "    }\n",
       "</style>\n",
       "<table border=\"1\" class=\"dataframe\">\n",
       "  <thead>\n",
       "    <tr style=\"text-align: right;\">\n",
       "      <th></th>\n",
       "      <th>count</th>\n",
       "    </tr>\n",
       "    <tr>\n",
       "      <th>TARGET</th>\n",
       "      <th></th>\n",
       "    </tr>\n",
       "  </thead>\n",
       "  <tbody>\n",
       "    <tr>\n",
       "      <th>0</th>\n",
       "      <td>3340</td>\n",
       "    </tr>\n",
       "    <tr>\n",
       "      <th>1</th>\n",
       "      <td>1660</td>\n",
       "    </tr>\n",
       "  </tbody>\n",
       "</table>\n",
       "</div><br><label><b>dtype:</b> int64</label>"
      ],
      "text/plain": [
       "TARGET\n",
       "0    3340\n",
       "1    1660\n",
       "Name: count, dtype: int64"
      ]
     },
     "execution_count": 5,
     "metadata": {},
     "output_type": "execute_result"
    }
   ],
   "source": [
    "import numpy as np\n",
    "\n",
    "# Función np.where(<condicion>, <valor cierto>, <valor falso>)\n",
    "df['TARGET'] = np.where(df['CHURN']==0, 1, 0)\n",
    "\n",
    "# Revisamos cómo queda la variable\n",
    "df.TARGET.value_counts()"
   ]
  },
  {
   "cell_type": "code",
   "execution_count": null,
   "metadata": {
    "id": "u9SYF6vPGtTT"
   },
   "outputs": [],
   "source": [
    "# Eliminamos la variable original ya que no la usaremos. Usaremos el TARGET\n",
    "df = df.drop(columns = ['CHURN'])"
   ]
  },
  {
   "cell_type": "code",
   "execution_count": null,
   "metadata": {
    "colab": {
     "base_uri": "https://localhost:8080/",
     "height": 178
    },
    "executionInfo": {
     "elapsed": 311,
     "status": "ok",
     "timestamp": 1727369540925,
     "user": {
      "displayName": "EDWIN RAFAEL VILLANUEVA TALAVERA",
      "userId": "14475481775736332436"
     },
     "user_tz": 300
    },
    "id": "8XY8sMd-CEzc",
    "outputId": "3ee89bc8-a46e-40e1-c991-db9d48d0291d"
   },
   "outputs": [
    {
     "data": {
      "text/html": [
       "<div>\n",
       "<style scoped>\n",
       "    .dataframe tbody tr th:only-of-type {\n",
       "        vertical-align: middle;\n",
       "    }\n",
       "\n",
       "    .dataframe tbody tr th {\n",
       "        vertical-align: top;\n",
       "    }\n",
       "\n",
       "    .dataframe thead th {\n",
       "        text-align: right;\n",
       "    }\n",
       "</style>\n",
       "<table border=\"1\" class=\"dataframe\">\n",
       "  <thead>\n",
       "    <tr style=\"text-align: right;\">\n",
       "      <th></th>\n",
       "      <th>count</th>\n",
       "    </tr>\n",
       "    <tr>\n",
       "      <th>TARGET</th>\n",
       "      <th></th>\n",
       "    </tr>\n",
       "  </thead>\n",
       "  <tbody>\n",
       "    <tr>\n",
       "      <th>0</th>\n",
       "      <td>66.8</td>\n",
       "    </tr>\n",
       "    <tr>\n",
       "      <th>1</th>\n",
       "      <td>33.2</td>\n",
       "    </tr>\n",
       "  </tbody>\n",
       "</table>\n",
       "</div><br><label><b>dtype:</b> float64</label>"
      ],
      "text/plain": [
       "TARGET\n",
       "0    66.8\n",
       "1    33.2\n",
       "Name: count, dtype: float64"
      ]
     },
     "execution_count": 7,
     "metadata": {},
     "output_type": "execute_result"
    }
   ],
   "source": [
    "# Revisamos cómo queda el balance de las clases (en porcentajes)\n",
    "(df.TARGET.value_counts()/df.shape[0])*100"
   ]
  },
  {
   "cell_type": "markdown",
   "metadata": {
    "id": "Xo6pkMYpC0k7"
   },
   "source": [
    "En este caso, se puede observar que existe un desbalance entre las clases (66% vs 33%). Este desbalance no es muy fuerte."
   ]
  },
  {
   "cell_type": "markdown",
   "metadata": {
    "id": "z6rv3LM5VCef"
   },
   "source": [
    "## Entendiendo Correlaciones entre Features\n",
    "Revisamos correlaciones entre variables numéricas"
   ]
  },
  {
   "cell_type": "code",
   "execution_count": null,
   "metadata": {
    "id": "9YWE-GAbhZco"
   },
   "outputs": [],
   "source": [
    "pd.set_option('display.precision', 2)  # setea la cantidad de decimales a mostrar en lo sucesivo en los dataframes"
   ]
  },
  {
   "cell_type": "code",
   "execution_count": null,
   "metadata": {
    "colab": {
     "base_uri": "https://localhost:8080/",
     "height": 792
    },
    "executionInfo": {
     "elapsed": 3053,
     "status": "ok",
     "timestamp": 1727370288201,
     "user": {
      "displayName": "EDWIN RAFAEL VILLANUEVA TALAVERA",
      "userId": "14475481775736332436"
     },
     "user_tz": 300
    },
    "id": "FlitiIVpa_3N",
    "outputId": "031b021c-97df-44e1-a62c-8c25497a35a0"
   },
   "outputs": [
    {
     "data": {
      "image/png": "[encoded data removed]",
      "text/plain": [
       "<Figure size 1000x800 with 2 Axes>"
      ]
     },
     "metadata": {},
     "output_type": "display_data"
    }
   ],
   "source": [
    "import seaborn as sns\n",
    "\n",
    "df_corr = df.corr(numeric_only=True).apply(lambda x: round(x,2))\n",
    "plt.figure(figsize=(10,8))\n",
    "sns.heatmap(df_corr,\n",
    "            annot=True,\n",
    "            cmap='Blues')\n",
    "plt.show()"
   ]
  },
  {
   "cell_type": "markdown",
   "metadata": {
    "id": "V0nVO0LCbRjo"
   },
   "source": [
    "Dado que no hay correlaciones fuertes, no eliminamos ninguna variable, ya que no hay redundancia entre ellas"
   ]
  },
  {
   "cell_type": "markdown",
   "metadata": {
    "id": "JOseD3vsb3yR"
   },
   "source": [
    "## Codificamos las variables categoricas a numericas para su uso en ML"
   ]
  },
  {
   "cell_type": "code",
   "execution_count": null,
   "metadata": {
    "colab": {
     "base_uri": "https://localhost:8080/",
     "height": 585
    },
    "executionInfo": {
     "elapsed": 337,
     "status": "ok",
     "timestamp": 1727370370798,
     "user": {
      "displayName": "EDWIN RAFAEL VILLANUEVA TALAVERA",
      "userId": "14475481775736332436"
     },
     "user_tz": 300
    },
    "id": "chgew48Ob7HT",
    "outputId": "bb5b8d4e-b511-4f85-a92f-4fcbb1f5e4b9"
   },
   "outputs": [
    {
     "data": {
      "text/html": [
       "<div>\n",
       "<style scoped>\n",
       "    .dataframe tbody tr th:only-of-type {\n",
       "        vertical-align: middle;\n",
       "    }\n",
       "\n",
       "    .dataframe tbody tr th {\n",
       "        vertical-align: top;\n",
       "    }\n",
       "\n",
       "    .dataframe thead th {\n",
       "        text-align: right;\n",
       "    }\n",
       "</style>\n",
       "<table border=\"1\" class=\"dataframe\">\n",
       "  <thead>\n",
       "    <tr style=\"text-align: right;\">\n",
       "      <th></th>\n",
       "      <th>count</th>\n",
       "    </tr>\n",
       "    <tr>\n",
       "      <th>DEPARTAMENTO</th>\n",
       "      <th></th>\n",
       "    </tr>\n",
       "  </thead>\n",
       "  <tbody>\n",
       "    <tr>\n",
       "      <th>LIMA</th>\n",
       "      <td>1129</td>\n",
       "    </tr>\n",
       "    <tr>\n",
       "      <th>AREQUIPA</th>\n",
       "      <td>481</td>\n",
       "    </tr>\n",
       "    <tr>\n",
       "      <th>PASCO</th>\n",
       "      <td>480</td>\n",
       "    </tr>\n",
       "    <tr>\n",
       "      <th>CUSCO</th>\n",
       "      <td>478</td>\n",
       "    </tr>\n",
       "    <tr>\n",
       "      <th>AYACUCHO</th>\n",
       "      <td>319</td>\n",
       "    </tr>\n",
       "    <tr>\n",
       "      <th>TACNA</th>\n",
       "      <td>319</td>\n",
       "    </tr>\n",
       "    <tr>\n",
       "      <th>ICA</th>\n",
       "      <td>319</td>\n",
       "    </tr>\n",
       "    <tr>\n",
       "      <th>JUNIN</th>\n",
       "      <td>319</td>\n",
       "    </tr>\n",
       "    <tr>\n",
       "      <th>PUNO</th>\n",
       "      <td>160</td>\n",
       "    </tr>\n",
       "    <tr>\n",
       "      <th>MOQUEGUA</th>\n",
       "      <td>158</td>\n",
       "    </tr>\n",
       "    <tr>\n",
       "      <th>LA LIBERTAD</th>\n",
       "      <td>158</td>\n",
       "    </tr>\n",
       "    <tr>\n",
       "      <th>PIURA</th>\n",
       "      <td>158</td>\n",
       "    </tr>\n",
       "    <tr>\n",
       "      <th>LORETO</th>\n",
       "      <td>157</td>\n",
       "    </tr>\n",
       "    <tr>\n",
       "      <th>UCAYALI</th>\n",
       "      <td>157</td>\n",
       "    </tr>\n",
       "    <tr>\n",
       "      <th>ANCASH</th>\n",
       "      <td>155</td>\n",
       "    </tr>\n",
       "  </tbody>\n",
       "</table>\n",
       "</div><br><label><b>dtype:</b> int64</label>"
      ],
      "text/plain": [
       "DEPARTAMENTO\n",
       "LIMA           1129\n",
       "AREQUIPA        481\n",
       "PASCO           480\n",
       "CUSCO           478\n",
       "AYACUCHO        319\n",
       "TACNA           319\n",
       "ICA             319\n",
       "JUNIN           319\n",
       "PUNO            160\n",
       "MOQUEGUA        158\n",
       "LA LIBERTAD     158\n",
       "PIURA           158\n",
       "LORETO          157\n",
       "UCAYALI         157\n",
       "ANCASH          155\n",
       "Name: count, dtype: int64"
      ]
     },
     "execution_count": 41,
     "metadata": {},
     "output_type": "execute_result"
    }
   ],
   "source": [
    "# veamos los diferentes valores del feature DEPARTAMENTO\n",
    "df.DEPARTAMENTO.value_counts()"
   ]
  },
  {
   "cell_type": "code",
   "execution_count": null,
   "metadata": {
    "id": "obiOXmx6cAWv"
   },
   "outputs": [],
   "source": [
    "# Creamos 4 variables binarias (Norte, Sur, Centro y Lima) en base a la ubicacion del DEPARTAMENTO.\n",
    "# Esta codificacion se llama one-hot encoding y es util para convertir categorias en valores numericos\n",
    "df['LIMA'] = np.where(df.DEPARTAMENTO == 'LIMA', 1, 0)\n",
    "df['SUR'] = np.where(df.DEPARTAMENTO.isin(['AREQUIPA', 'CUSCO', 'ICA', 'AYACUCHO', 'TACNA', 'MOQUEGUA', 'PUNO']), 1, 0)\n",
    "df['CENTRO'] = np.where(df.DEPARTAMENTO.isin(['PASCO', 'JUNIN', 'UCAYALI']), 1, 0)\n",
    "df['NORTE'] = np.where(df.DEPARTAMENTO.isin(['LA LIBERTAD', 'LORETO', 'PIURA', 'ANCASH']), 1, 0)"
   ]
  },
  {
   "cell_type": "code",
   "execution_count": null,
   "metadata": {
    "id": "1DjTeNZaV6ih"
   },
   "outputs": [],
   "source": [
    "# Borramos el feature DEPARTAMENTO, ya que solo se usará las variables binarias que acabamos de codificar\n",
    "df = df.drop(columns = 'DEPARTAMENTO')"
   ]
  },
  {
   "cell_type": "markdown",
   "metadata": {
    "id": "0GiSrZust40n"
   },
   "source": [
    "**Nota importante**: en este caso, esta forma de codificacion  resulta igual que usando dummies (One-hot encoding). El procedimiento es adecuado debido a que no hay una relación de orden entre los elementos. Si se hubiese usado \"cat.codes\" o \"LabelEncoder()\", los resultados en algunos algoritmos de ML (como los que dependen de distancias) podrian ser erróneos."
   ]
  },
  {
   "cell_type": "code",
   "execution_count": null,
   "metadata": {
    "colab": {
     "base_uri": "https://localhost:8080/",
     "height": 238
    },
    "executionInfo": {
     "elapsed": 303,
     "status": "ok",
     "timestamp": 1727358471994,
     "user": {
      "displayName": "EDWIN RAFAEL VILLANUEVA TALAVERA",
      "userId": "14475481775736332436"
     },
     "user_tz": 300
    },
    "id": "qxFXcLxWnmqm",
    "outputId": "92f40538-7eb4-4404-ef9d-636dfe43ed1b"
   },
   "outputs": [
    {
     "data": {
      "application/vnd.google.colaboratory.intrinsic+json": {
       "summary": "{\n  \"name\": \"df\",\n  \"rows\": 5,\n  \"fields\": [\n    {\n      \"column\": \"CLIENT_ID\",\n      \"properties\": {\n        \"dtype\": \"number\",\n        \"std\": 1445,\n        \"min\": 185,\n        \"max\": 3994,\n        \"num_unique_values\": 5,\n        \"samples\": [\n          1095,\n          2482,\n          3994\n        ],\n        \"semantic_type\": \"\",\n        \"description\": \"\"\n      }\n    },\n    {\n      \"column\": \"GENERO\",\n      \"properties\": {\n        \"dtype\": \"category\",\n        \"num_unique_values\": 2,\n        \"samples\": [\n          \"M\",\n          \"F\"\n        ],\n        \"semantic_type\": \"\",\n        \"description\": \"\"\n      }\n    },\n    {\n      \"column\": \"EDAD\",\n      \"properties\": {\n        \"dtype\": \"number\",\n        \"std\": 6,\n        \"min\": 42,\n        \"max\": 56,\n        \"num_unique_values\": 5,\n        \"samples\": [\n          52,\n          42\n        ],\n        \"semantic_type\": \"\",\n        \"description\": \"\"\n      }\n    },\n    {\n      \"column\": \"CAPDEUDA\",\n      \"properties\": {\n        \"dtype\": \"number\",\n        \"std\": 1.2877531182756128,\n        \"min\": 48.16562934,\n        \"max\": 51.3858844,\n        \"num_unique_values\": 5,\n        \"samples\": [\n          50.2598852,\n          50.17756308\n        ],\n        \"semantic_type\": \"\",\n        \"description\": \"\"\n      }\n    },\n    {\n      \"column\": \"RENTA\",\n      \"properties\": {\n        \"dtype\": \"number\",\n        \"std\": 1.2763430144853753,\n        \"min\": 48.48734008,\n        \"max\": 51.52127332,\n        \"num_unique_values\": 5,\n        \"samples\": [\n          50.38584123,\n          48.48734008\n        ],\n        \"semantic_type\": \"\",\n        \"description\": \"\"\n      }\n    },\n    {\n      \"column\": \"USO_SMS\",\n      \"properties\": {\n        \"dtype\": \"number\",\n        \"std\": 1.2163163054925117,\n        \"min\": 47.83331319,\n        \"max\": 50.98680421,\n        \"num_unique_values\": 5,\n        \"samples\": [\n          47.83331319,\n          50.34737874\n        ],\n        \"semantic_type\": \"\",\n        \"description\": \"\"\n      }\n    },\n    {\n      \"column\": \"DEUDA_ANT\",\n      \"properties\": {\n        \"dtype\": \"number\",\n        \"std\": 0.6430426758872583,\n        \"min\": 50.00565879,\n        \"max\": 51.52637881,\n        \"num_unique_values\": 5,\n        \"samples\": [\n          50.06376143,\n          51.52637881\n        ],\n        \"semantic_type\": \"\",\n        \"description\": \"\"\n      }\n    },\n    {\n      \"column\": \"MIN_CALLCENTER\",\n      \"properties\": {\n        \"dtype\": \"number\",\n        \"std\": 1.4891593946416404,\n        \"min\": 47.13144847,\n        \"max\": 50.68663123,\n        \"num_unique_values\": 5,\n        \"samples\": [\n          47.13144847,\n          47.35529143\n        ],\n        \"semantic_type\": \"\",\n        \"description\": \"\"\n      }\n    },\n    {\n      \"column\": \"ANTIGUEDAD\",\n      \"properties\": {\n        \"dtype\": \"number\",\n        \"std\": 1.51657508881031,\n        \"min\": 48.0,\n        \"max\": 51.0,\n        \"num_unique_values\": 3,\n        \"samples\": [\n          48.0,\n          49.0\n        ],\n        \"semantic_type\": \"\",\n        \"description\": \"\"\n      }\n    },\n    {\n      \"column\": \"USO_MB\",\n      \"properties\": {\n        \"dtype\": \"number\",\n        \"std\": 1.1763740820162085,\n        \"min\": 48.92756848,\n        \"max\": 51.93074668,\n        \"num_unique_values\": 5,\n        \"samples\": [\n          51.64631856,\n          50.96280064\n        ],\n        \"semantic_type\": \"\",\n        \"description\": \"\"\n      }\n    },\n    {\n      \"column\": \"DEUDA_ACT\",\n      \"properties\": {\n        \"dtype\": \"number\",\n        \"std\": 0.6827758670791588,\n        \"min\": 49.79789538,\n        \"max\": 51.50841548,\n        \"num_unique_values\": 5,\n        \"samples\": [\n          49.98809001,\n          50.59655674\n        ],\n        \"semantic_type\": \"\",\n        \"description\": \"\"\n      }\n    },\n    {\n      \"column\": \"MIN_ENT_3M\",\n      \"properties\": {\n        \"dtype\": \"number\",\n        \"std\": 2.6875416855742116,\n        \"min\": 47.44793384,\n        \"max\": 54.1973469,\n        \"num_unique_values\": 5,\n        \"samples\": [\n          48.24678015,\n          47.44793384\n        ],\n        \"semantic_type\": \"\",\n        \"description\": \"\"\n      }\n    },\n    {\n      \"column\": \"MIN_SAL_3M\",\n      \"properties\": {\n        \"dtype\": \"number\",\n        \"std\": 2.198697861963106,\n        \"min\": 47.14587546,\n        \"max\": 52.34285727,\n        \"num_unique_values\": 5,\n        \"samples\": [\n          52.19061611,\n          49.94293189\n        ],\n        \"semantic_type\": \"\",\n        \"description\": \"\"\n      }\n    },\n    {\n      \"column\": \"TARGET\",\n      \"properties\": {\n        \"dtype\": \"number\",\n        \"std\": 0,\n        \"min\": 0,\n        \"max\": 1,\n        \"num_unique_values\": 2,\n        \"samples\": [\n          1,\n          0\n        ],\n        \"semantic_type\": \"\",\n        \"description\": \"\"\n      }\n    },\n    {\n      \"column\": \"LIMA\",\n      \"properties\": {\n        \"dtype\": \"number\",\n        \"std\": 0,\n        \"min\": 0,\n        \"max\": 1,\n        \"num_unique_values\": 2,\n        \"samples\": [\n          1,\n          0\n        ],\n        \"semantic_type\": \"\",\n        \"description\": \"\"\n      }\n    },\n    {\n      \"column\": \"SUR\",\n      \"properties\": {\n        \"dtype\": \"number\",\n        \"std\": 0,\n        \"min\": 0,\n        \"max\": 1,\n        \"num_unique_values\": 2,\n        \"samples\": [\n          0,\n          1\n        ],\n        \"semantic_type\": \"\",\n        \"description\": \"\"\n      }\n    },\n    {\n      \"column\": \"CENTRO\",\n      \"properties\": {\n        \"dtype\": \"number\",\n        \"std\": 0,\n        \"min\": 0,\n        \"max\": 1,\n        \"num_unique_values\": 2,\n        \"samples\": [\n          1,\n          0\n        ],\n        \"semantic_type\": \"\",\n        \"description\": \"\"\n      }\n    },\n    {\n      \"column\": \"NORTE\",\n      \"properties\": {\n        \"dtype\": \"number\",\n        \"std\": 0,\n        \"min\": 0,\n        \"max\": 0,\n        \"num_unique_values\": 1,\n        \"samples\": [\n          0\n        ],\n        \"semantic_type\": \"\",\n        \"description\": \"\"\n      }\n    }\n  ]\n}",
       "type": "dataframe"
      },
      "text/html": [
       "\n",
       "  <div id=\"df-60ba3bd9-7565-4363-9c2a-b78dd11731ef\" class=\"colab-df-container\">\n",
       "    <div>\n",
       "<style scoped>\n",
       "    .dataframe tbody tr th:only-of-type {\n",
       "        vertical-align: middle;\n",
       "    }\n",
       "\n",
       "    .dataframe tbody tr th {\n",
       "        vertical-align: top;\n",
       "    }\n",
       "\n",
       "    .dataframe thead th {\n",
       "        text-align: right;\n",
       "    }\n",
       "</style>\n",
       "<table border=\"1\" class=\"dataframe\">\n",
       "  <thead>\n",
       "    <tr style=\"text-align: right;\">\n",
       "      <th></th>\n",
       "      <th>GENERO</th>\n",
       "      <th>EDAD</th>\n",
       "      <th>CAPDEUDA</th>\n",
       "      <th>RENTA</th>\n",
       "      <th>USO_SMS</th>\n",
       "      <th>DEUDA_ANT</th>\n",
       "      <th>MIN_CALLCENTER</th>\n",
       "      <th>ANTIGUEDAD</th>\n",
       "      <th>USO_MB</th>\n",
       "      <th>DEUDA_ACT</th>\n",
       "      <th>MIN_ENT_3M</th>\n",
       "      <th>MIN_SAL_3M</th>\n",
       "      <th>TARGET</th>\n",
       "      <th>LIMA</th>\n",
       "      <th>SUR</th>\n",
       "      <th>CENTRO</th>\n",
       "      <th>NORTE</th>\n",
       "    </tr>\n",
       "    <tr>\n",
       "      <th>CLIENT_ID</th>\n",
       "      <th></th>\n",
       "      <th></th>\n",
       "      <th></th>\n",
       "      <th></th>\n",
       "      <th></th>\n",
       "      <th></th>\n",
       "      <th></th>\n",
       "      <th></th>\n",
       "      <th></th>\n",
       "      <th></th>\n",
       "      <th></th>\n",
       "      <th></th>\n",
       "      <th></th>\n",
       "      <th></th>\n",
       "      <th></th>\n",
       "      <th></th>\n",
       "      <th></th>\n",
       "    </tr>\n",
       "  </thead>\n",
       "  <tbody>\n",
       "    <tr>\n",
       "      <th>2191</th>\n",
       "      <td>F</td>\n",
       "      <td>44</td>\n",
       "      <td>48.75</td>\n",
       "      <td>49.94</td>\n",
       "      <td>50.39</td>\n",
       "      <td>50.06</td>\n",
       "      <td>49.20</td>\n",
       "      <td>48.0</td>\n",
       "      <td>51.93</td>\n",
       "      <td>51.51</td>\n",
       "      <td>48.78</td>\n",
       "      <td>52.34</td>\n",
       "      <td>0</td>\n",
       "      <td>0</td>\n",
       "      <td>1</td>\n",
       "      <td>0</td>\n",
       "      <td>0</td>\n",
       "    </tr>\n",
       "    <tr>\n",
       "      <th>1095</th>\n",
       "      <td>M</td>\n",
       "      <td>52</td>\n",
       "      <td>50.26</td>\n",
       "      <td>50.39</td>\n",
       "      <td>47.83</td>\n",
       "      <td>50.06</td>\n",
       "      <td>47.13</td>\n",
       "      <td>48.0</td>\n",
       "      <td>51.65</td>\n",
       "      <td>49.99</td>\n",
       "      <td>48.25</td>\n",
       "      <td>52.19</td>\n",
       "      <td>0</td>\n",
       "      <td>0</td>\n",
       "      <td>1</td>\n",
       "      <td>0</td>\n",
       "      <td>0</td>\n",
       "    </tr>\n",
       "    <tr>\n",
       "      <th>3994</th>\n",
       "      <td>M</td>\n",
       "      <td>56</td>\n",
       "      <td>51.39</td>\n",
       "      <td>51.52</td>\n",
       "      <td>49.70</td>\n",
       "      <td>50.50</td>\n",
       "      <td>49.34</td>\n",
       "      <td>49.0</td>\n",
       "      <td>48.93</td>\n",
       "      <td>50.14</td>\n",
       "      <td>54.20</td>\n",
       "      <td>47.15</td>\n",
       "      <td>1</td>\n",
       "      <td>0</td>\n",
       "      <td>0</td>\n",
       "      <td>1</td>\n",
       "      <td>0</td>\n",
       "    </tr>\n",
       "    <tr>\n",
       "      <th>185</th>\n",
       "      <td>M</td>\n",
       "      <td>43</td>\n",
       "      <td>48.17</td>\n",
       "      <td>48.59</td>\n",
       "      <td>50.99</td>\n",
       "      <td>50.01</td>\n",
       "      <td>50.69</td>\n",
       "      <td>51.0</td>\n",
       "      <td>50.69</td>\n",
       "      <td>49.80</td>\n",
       "      <td>48.77</td>\n",
       "      <td>49.01</td>\n",
       "      <td>0</td>\n",
       "      <td>0</td>\n",
       "      <td>0</td>\n",
       "      <td>1</td>\n",
       "      <td>0</td>\n",
       "    </tr>\n",
       "    <tr>\n",
       "      <th>2482</th>\n",
       "      <td>F</td>\n",
       "      <td>42</td>\n",
       "      <td>50.18</td>\n",
       "      <td>48.49</td>\n",
       "      <td>50.35</td>\n",
       "      <td>51.53</td>\n",
       "      <td>47.36</td>\n",
       "      <td>51.0</td>\n",
       "      <td>50.96</td>\n",
       "      <td>50.60</td>\n",
       "      <td>47.45</td>\n",
       "      <td>49.94</td>\n",
       "      <td>0</td>\n",
       "      <td>1</td>\n",
       "      <td>0</td>\n",
       "      <td>0</td>\n",
       "      <td>0</td>\n",
       "    </tr>\n",
       "  </tbody>\n",
       "</table>\n",
       "</div>\n",
       "    <div class=\"colab-df-buttons\">\n",
       "\n",
       "  <div class=\"colab-df-container\">\n",
       "    <button class=\"colab-df-convert\" onclick=\"convertToInteractive('df-60ba3bd9-7565-4363-9c2a-b78dd11731ef')\"\n",
       "            title=\"Convert this dataframe to an interactive table.\"\n",
       "            style=\"display:none;\">\n",
       "\n",
       "  <svg xmlns=\"http://www.w3.org/2000/svg\" height=\"24px\" viewBox=\"0 -960 960 960\">\n",
       "    <path d=\"M120-120v-720h720v720H120Zm60-500h600v-160H180v160Zm220 220h160v-160H400v160Zm0 220h160v-160H400v160ZM180-400h160v-160H180v160Zm440 0h160v-160H620v160ZM180-180h160v-160H180v160Zm440 0h160v-160H620v160Z\"/>\n",
       "  </svg>\n",
       "    </button>\n",
       "\n",
       "  <style>\n",
       "    .colab-df-container {\n",
       "      display:flex;\n",
       "      gap: 12px;\n",
       "    }\n",
       "\n",
       "    .colab-df-convert {\n",
       "      background-color: #E8F0FE;\n",
       "      border: none;\n",
       "      border-radius: 50%;\n",
       "      cursor: pointer;\n",
       "      display: none;\n",
       "      fill: #1967D2;\n",
       "      height: 32px;\n",
       "      padding: 0 0 0 0;\n",
       "      width: 32px;\n",
       "    }\n",
       "\n",
       "    .colab-df-convert:hover {\n",
       "      background-color: #E2EBFA;\n",
       "      box-shadow: 0px 1px 2px rgba(60, 64, 67, 0.3), 0px 1px 3px 1px rgba(60, 64, 67, 0.15);\n",
       "      fill: #174EA6;\n",
       "    }\n",
       "\n",
       "    .colab-df-buttons div {\n",
       "      margin-bottom: 4px;\n",
       "    }\n",
       "\n",
       "    [theme=dark] .colab-df-convert {\n",
       "      background-color: #3B4455;\n",
       "      fill: #D2E3FC;\n",
       "    }\n",
       "\n",
       "    [theme=dark] .colab-df-convert:hover {\n",
       "      background-color: #434B5C;\n",
       "      box-shadow: 0px 1px 3px 1px rgba(0, 0, 0, 0.15);\n",
       "      filter: drop-shadow(0px 1px 2px rgba(0, 0, 0, 0.3));\n",
       "      fill: #FFFFFF;\n",
       "    }\n",
       "  </style>\n",
       "\n",
       "    <script>\n",
       "      const buttonEl =\n",
       "        document.querySelector('#df-60ba3bd9-7565-4363-9c2a-b78dd11731ef button.colab-df-convert');\n",
       "      buttonEl.style.display =\n",
       "        google.colab.kernel.accessAllowed ? 'block' : 'none';\n",
       "\n",
       "      async function convertToInteractive(key) {\n",
       "        const element = document.querySelector('#df-60ba3bd9-7565-4363-9c2a-b78dd11731ef');\n",
       "        const dataTable =\n",
       "          await google.colab.kernel.invokeFunction('convertToInteractive',\n",
       "                                                    [key], {});\n",
       "        if (!dataTable) return;\n",
       "\n",
       "        const docLinkHtml = 'Like what you see? Visit the ' +\n",
       "          '<a target=\"_blank\" href=https://colab.research.google.com/notebooks/data_table.ipynb>data table notebook</a>'\n",
       "          + ' to learn more about interactive tables.';\n",
       "        element.innerHTML = '';\n",
       "        dataTable['output_type'] = 'display_data';\n",
       "        await google.colab.output.renderOutput(dataTable, element);\n",
       "        const docLink = document.createElement('div');\n",
       "        docLink.innerHTML = docLinkHtml;\n",
       "        element.appendChild(docLink);\n",
       "      }\n",
       "    </script>\n",
       "  </div>\n",
       "\n",
       "\n",
       "<div id=\"df-49b694e0-84e4-49ea-8db2-b6a11f8c0ff5\">\n",
       "  <button class=\"colab-df-quickchart\" onclick=\"quickchart('df-49b694e0-84e4-49ea-8db2-b6a11f8c0ff5')\"\n",
       "            title=\"Suggest charts\"\n",
       "            style=\"display:none;\">\n",
       "\n",
       "<svg xmlns=\"http://www.w3.org/2000/svg\" height=\"24px\"viewBox=\"0 0 24 24\"\n",
       "     width=\"24px\">\n",
       "    <g>\n",
       "        <path d=\"M19 3H5c-1.1 0-2 .9-2 2v14c0 1.1.9 2 2 2h14c1.1 0 2-.9 2-2V5c0-1.1-.9-2-2-2zM9 17H7v-7h2v7zm4 0h-2V7h2v10zm4 0h-2v-4h2v4z\"/>\n",
       "    </g>\n",
       "</svg>\n",
       "  </button>\n",
       "\n",
       "<style>\n",
       "  .colab-df-quickchart {\n",
       "      --bg-color: #E8F0FE;\n",
       "      --fill-color: #1967D2;\n",
       "      --hover-bg-color: #E2EBFA;\n",
       "      --hover-fill-color: #174EA6;\n",
       "      --disabled-fill-color: #AAA;\n",
       "      --disabled-bg-color: #DDD;\n",
       "  }\n",
       "\n",
       "  [theme=dark] .colab-df-quickchart {\n",
       "      --bg-color: #3B4455;\n",
       "      --fill-color: #D2E3FC;\n",
       "      --hover-bg-color: #434B5C;\n",
       "      --hover-fill-color: #FFFFFF;\n",
       "      --disabled-bg-color: #3B4455;\n",
       "      --disabled-fill-color: #666;\n",
       "  }\n",
       "\n",
       "  .colab-df-quickchart {\n",
       "    background-color: var(--bg-color);\n",
       "    border: none;\n",
       "    border-radius: 50%;\n",
       "    cursor: pointer;\n",
       "    display: none;\n",
       "    fill: var(--fill-color);\n",
       "    height: 32px;\n",
       "    padding: 0;\n",
       "    width: 32px;\n",
       "  }\n",
       "\n",
       "  .colab-df-quickchart:hover {\n",
       "    background-color: var(--hover-bg-color);\n",
       "    box-shadow: 0 1px 2px rgba(60, 64, 67, 0.3), 0 1px 3px 1px rgba(60, 64, 67, 0.15);\n",
       "    fill: var(--button-hover-fill-color);\n",
       "  }\n",
       "\n",
       "  .colab-df-quickchart-complete:disabled,\n",
       "  .colab-df-quickchart-complete:disabled:hover {\n",
       "    background-color: var(--disabled-bg-color);\n",
       "    fill: var(--disabled-fill-color);\n",
       "    box-shadow: none;\n",
       "  }\n",
       "\n",
       "  .colab-df-spinner {\n",
       "    border: 2px solid var(--fill-color);\n",
       "    border-color: transparent;\n",
       "    border-bottom-color: var(--fill-color);\n",
       "    animation:\n",
       "      spin 1s steps(1) infinite;\n",
       "  }\n",
       "\n",
       "  @keyframes spin {\n",
       "    0% {\n",
       "      border-color: transparent;\n",
       "      border-bottom-color: var(--fill-color);\n",
       "      border-left-color: var(--fill-color);\n",
       "    }\n",
       "    20% {\n",
       "      border-color: transparent;\n",
       "      border-left-color: var(--fill-color);\n",
       "      border-top-color: var(--fill-color);\n",
       "    }\n",
       "    30% {\n",
       "      border-color: transparent;\n",
       "      border-left-color: var(--fill-color);\n",
       "      border-top-color: var(--fill-color);\n",
       "      border-right-color: var(--fill-color);\n",
       "    }\n",
       "    40% {\n",
       "      border-color: transparent;\n",
       "      border-right-color: var(--fill-color);\n",
       "      border-top-color: var(--fill-color);\n",
       "    }\n",
       "    60% {\n",
       "      border-color: transparent;\n",
       "      border-right-color: var(--fill-color);\n",
       "    }\n",
       "    80% {\n",
       "      border-color: transparent;\n",
       "      border-right-color: var(--fill-color);\n",
       "      border-bottom-color: var(--fill-color);\n",
       "    }\n",
       "    90% {\n",
       "      border-color: transparent;\n",
       "      border-bottom-color: var(--fill-color);\n",
       "    }\n",
       "  }\n",
       "</style>\n",
       "\n",
       "  <script>\n",
       "    async function quickchart(key) {\n",
       "      const quickchartButtonEl =\n",
       "        document.querySelector('#' + key + ' button');\n",
       "      quickchartButtonEl.disabled = true;  // To prevent multiple clicks.\n",
       "      quickchartButtonEl.classList.add('colab-df-spinner');\n",
       "      try {\n",
       "        const charts = await google.colab.kernel.invokeFunction(\n",
       "            'suggestCharts', [key], {});\n",
       "      } catch (error) {\n",
       "        console.error('Error during call to suggestCharts:', error);\n",
       "      }\n",
       "      quickchartButtonEl.classList.remove('colab-df-spinner');\n",
       "      quickchartButtonEl.classList.add('colab-df-quickchart-complete');\n",
       "    }\n",
       "    (() => {\n",
       "      let quickchartButtonEl =\n",
       "        document.querySelector('#df-49b694e0-84e4-49ea-8db2-b6a11f8c0ff5 button');\n",
       "      quickchartButtonEl.style.display =\n",
       "        google.colab.kernel.accessAllowed ? 'block' : 'none';\n",
       "    })();\n",
       "  </script>\n",
       "</div>\n",
       "\n",
       "    </div>\n",
       "  </div>\n"
      ],
      "text/plain": [
       "          GENERO  EDAD  CAPDEUDA  RENTA  USO_SMS  DEUDA_ANT  MIN_CALLCENTER  \\\n",
       "CLIENT_ID                                                                     \n",
       "2191           F    44     48.75  49.94    50.39      50.06           49.20   \n",
       "1095           M    52     50.26  50.39    47.83      50.06           47.13   \n",
       "3994           M    56     51.39  51.52    49.70      50.50           49.34   \n",
       "185            M    43     48.17  48.59    50.99      50.01           50.69   \n",
       "2482           F    42     50.18  48.49    50.35      51.53           47.36   \n",
       "\n",
       "           ANTIGUEDAD  USO_MB  DEUDA_ACT  MIN_ENT_3M  MIN_SAL_3M  TARGET  \\\n",
       "CLIENT_ID                                                                  \n",
       "2191             48.0   51.93      51.51       48.78       52.34       0   \n",
       "1095             48.0   51.65      49.99       48.25       52.19       0   \n",
       "3994             49.0   48.93      50.14       54.20       47.15       1   \n",
       "185              51.0   50.69      49.80       48.77       49.01       0   \n",
       "2482             51.0   50.96      50.60       47.45       49.94       0   \n",
       "\n",
       "           LIMA  SUR  CENTRO  NORTE  \n",
       "CLIENT_ID                            \n",
       "2191          0    1       0      0  \n",
       "1095          0    1       0      0  \n",
       "3994          0    0       1      0  \n",
       "185           0    0       1      0  \n",
       "2482          1    0       0      0  "
      ]
     },
     "execution_count": 39,
     "metadata": {},
     "output_type": "execute_result"
    }
   ],
   "source": [
    "df.sample(5)"
   ]
  },
  {
   "cell_type": "markdown",
   "metadata": {
    "id": "H4phqaqBoAty"
   },
   "source": [
    "\n",
    "Si bien el encoding se puede hacer manualmente, scikit-learn provee de un conjunto de Encoders que facilitan la tarea\n",
    "```\n",
    "from sklearn.preprocessing import LabelEncoder\n",
    "label_encoder = LabelEncoder().fit(df['DEPARTAMENTO'])\n",
    "df['DEPARTAMENTO'] = label_encoder.transform(df['DEPARTAMENTO'])\n",
    "```\n",
    "Este codigo hubiera un codigo numerico a cada categoria distinta en DEPARTAMENTO (entre 0 a #categorias-1). No es recomendable esta codificacion ya que no hay una relacion de orden entre las categorias. (Mejor one-hot encoding)\n",
    "\n",
    "También se puede usar \"cat.codes\" pero transforma valores categoricos a numéricos en orden alfabetico descendiente\n",
    "\n",
    "```\n",
    "df['DEPARTAMENTO'].cat.codes\n",
    "```\n",
    "\n",
    "\n"
   ]
  },
  {
   "cell_type": "code",
   "execution_count": null,
   "metadata": {
    "colab": {
     "base_uri": "https://localhost:8080/"
    },
    "executionInfo": {
     "elapsed": 339,
     "status": "ok",
     "timestamp": 1727370403034,
     "user": {
      "displayName": "EDWIN RAFAEL VILLANUEVA TALAVERA",
      "userId": "14475481775736332436"
     },
     "user_tz": 300
    },
    "id": "PhrqSmROXTlY",
    "outputId": "84912135-2dc5-4636-8cd9-684767e9253e"
   },
   "outputs": [
    {
     "name": "stdout",
     "output_type": "stream",
     "text": [
      "<class 'pandas.core.frame.DataFrame'>\n",
      "Index: 4947 entries, 0 to 4999\n",
      "Data columns (total 18 columns):\n",
      " #   Column          Non-Null Count  Dtype  \n",
      "---  ------          --------------  -----  \n",
      " 0   GENERO          4947 non-null   object \n",
      " 1   EDAD            4947 non-null   int64  \n",
      " 2   DEPARTAMENTO    4947 non-null   object \n",
      " 3   CAPDEUDA        4947 non-null   float64\n",
      " 4   RENTA           4947 non-null   float64\n",
      " 5   USO_SMS         4947 non-null   float64\n",
      " 6   DEUDA_ANT       4947 non-null   float64\n",
      " 7   MIN_CALLCENTER  4947 non-null   float64\n",
      " 8   ANTIGUEDAD      4947 non-null   float64\n",
      " 9   USO_MB          4947 non-null   float64\n",
      " 10  DEUDA_ACT       4947 non-null   float64\n",
      " 11  MIN_ENT_3M      4947 non-null   float64\n",
      " 12  MIN_SAL_3M      4947 non-null   float64\n",
      " 13  TARGET          4947 non-null   int64  \n",
      " 14  LIMA            4947 non-null   int64  \n",
      " 15  SUR             4947 non-null   int64  \n",
      " 16  CENTRO          4947 non-null   int64  \n",
      " 17  NORTE           4947 non-null   int64  \n",
      "dtypes: float64(10), int64(6), object(2)\n",
      "memory usage: 734.3+ KB\n"
     ]
    }
   ],
   "source": [
    "# Chequeamos si hay mas variables categoricas que necesitemos codificar a numericas\n",
    "df.info()"
   ]
  },
  {
   "cell_type": "markdown",
   "metadata": {
    "id": "saIBFJ1tXlnv"
   },
   "source": [
    "La variable GENERO es de tipo object, presumiblemente almacena categorias"
   ]
  },
  {
   "cell_type": "code",
   "execution_count": null,
   "metadata": {
    "colab": {
     "base_uri": "https://localhost:8080/",
     "height": 178
    },
    "executionInfo": {
     "elapsed": 320,
     "status": "ok",
     "timestamp": 1727358501886,
     "user": {
      "displayName": "EDWIN RAFAEL VILLANUEVA TALAVERA",
      "userId": "14475481775736332436"
     },
     "user_tz": 300
    },
    "id": "ZrbfWnetdJL_",
    "outputId": "ec7f34f9-b323-4b04-ac76-64d32f740383"
   },
   "outputs": [
    {
     "data": {
      "text/html": [
       "<div>\n",
       "<style scoped>\n",
       "    .dataframe tbody tr th:only-of-type {\n",
       "        vertical-align: middle;\n",
       "    }\n",
       "\n",
       "    .dataframe tbody tr th {\n",
       "        vertical-align: top;\n",
       "    }\n",
       "\n",
       "    .dataframe thead th {\n",
       "        text-align: right;\n",
       "    }\n",
       "</style>\n",
       "<table border=\"1\" class=\"dataframe\">\n",
       "  <thead>\n",
       "    <tr style=\"text-align: right;\">\n",
       "      <th></th>\n",
       "      <th>count</th>\n",
       "    </tr>\n",
       "    <tr>\n",
       "      <th>GENERO</th>\n",
       "      <th></th>\n",
       "    </tr>\n",
       "  </thead>\n",
       "  <tbody>\n",
       "    <tr>\n",
       "      <th>F</th>\n",
       "      <td>2475</td>\n",
       "    </tr>\n",
       "    <tr>\n",
       "      <th>M</th>\n",
       "      <td>2472</td>\n",
       "    </tr>\n",
       "  </tbody>\n",
       "</table>\n",
       "</div><br><label><b>dtype:</b> int64</label>"
      ],
      "text/plain": [
       "GENERO\n",
       "F    2475\n",
       "M    2472\n",
       "Name: count, dtype: int64"
      ]
     },
     "execution_count": 41,
     "metadata": {},
     "output_type": "execute_result"
    }
   ],
   "source": [
    "# Analicemos que categorias tiene la variable GENERO\n",
    "df.GENERO.value_counts()"
   ]
  },
  {
   "cell_type": "code",
   "execution_count": null,
   "metadata": {
    "id": "xXKgJoB4dLj1"
   },
   "outputs": [],
   "source": [
    "# Podemos binarizar GENERO usando dummies (One-hot encoding)\n",
    "# Como son 3 categorias de Genereo, se crearán 3 features one-hot\n",
    "df = pd.get_dummies(df, columns = ['GENERO'])"
   ]
  },
  {
   "cell_type": "code",
   "execution_count": null,
   "metadata": {
    "colab": {
     "base_uri": "https://localhost:8080/",
     "height": 414
    },
    "executionInfo": {
     "elapsed": 359,
     "status": "ok",
     "timestamp": 1727370445664,
     "user": {
      "displayName": "EDWIN RAFAEL VILLANUEVA TALAVERA",
      "userId": "14475481775736332436"
     },
     "user_tz": 300
    },
    "id": "vc8sf0CNdbcr",
    "outputId": "5e3f3698-5d69-483c-8710-ef738fe56458"
   },
   "outputs": [
    {
     "data": {
      "application/vnd.google.colaboratory.intrinsic+json": {
       "summary": "{\n  \"name\": \"df\",\n  \"rows\": 10,\n  \"fields\": [\n    {\n      \"column\": \"CLIENT_ID\",\n      \"properties\": {\n        \"dtype\": \"number\",\n        \"std\": 1644,\n        \"min\": 490,\n        \"max\": 4765,\n        \"num_unique_values\": 10,\n        \"samples\": [\n          1586,\n          4550,\n          4765\n        ],\n        \"semantic_type\": \"\",\n        \"description\": \"\"\n      }\n    },\n    {\n      \"column\": \"EDAD\",\n      \"properties\": {\n        \"dtype\": \"number\",\n        \"std\": 13,\n        \"min\": 18,\n        \"max\": 54,\n        \"num_unique_values\": 8,\n        \"samples\": [\n          32,\n          31,\n          54\n        ],\n        \"semantic_type\": \"\",\n        \"description\": \"\"\n      }\n    },\n    {\n      \"column\": \"DEPARTAMENTO\",\n      \"properties\": {\n        \"dtype\": \"string\",\n        \"num_unique_values\": 6,\n        \"samples\": [\n          \"CUSCO\",\n          \"ICA\",\n          \"ANCASH\"\n        ],\n        \"semantic_type\": \"\",\n        \"description\": \"\"\n      }\n    },\n    {\n      \"column\": \"CAPDEUDA\",\n      \"properties\": {\n        \"dtype\": \"number\",\n        \"std\": 1.3250905547844387,\n        \"min\": 47.34157931499999,\n        \"max\": 51.62171001,\n        \"num_unique_values\": 10,\n        \"samples\": [\n          51.62171001,\n          50.67007851,\n          50.05972423\n        ],\n        \"semantic_type\": \"\",\n        \"description\": \"\"\n      }\n    },\n    {\n      \"column\": \"RENTA\",\n      \"properties\": {\n        \"dtype\": \"number\",\n        \"std\": 1.5885620611638889,\n        \"min\": 47.28284726,\n        \"max\": 53.25321474,\n        \"num_unique_values\": 10,\n        \"samples\": [\n          49.26164941,\n          51.0344662,\n          51.0998752\n        ],\n        \"semantic_type\": \"\",\n        \"description\": \"\"\n      }\n    },\n    {\n      \"column\": \"USO_SMS\",\n      \"properties\": {\n        \"dtype\": \"number\",\n        \"std\": 1.4096452413835912,\n        \"min\": 48.09480895,\n        \"max\": 52.47110749,\n        \"num_unique_values\": 10,\n        \"samples\": [\n          52.47110749,\n          49.11134487,\n          48.09480895\n        ],\n        \"semantic_type\": \"\",\n        \"description\": \"\"\n      }\n    },\n    {\n      \"column\": \"DEUDA_ANT\",\n      \"properties\": {\n        \"dtype\": \"number\",\n        \"std\": 0.852473255929843,\n        \"min\": 48.41184844,\n        \"max\": 51.34936871,\n        \"num_unique_values\": 10,\n        \"samples\": [\n          50.76006184,\n          49.43292414,\n          50.38638338\n        ],\n        \"semantic_type\": \"\",\n        \"description\": \"\"\n      }\n    },\n    {\n      \"column\": \"MIN_CALLCENTER\",\n      \"properties\": {\n        \"dtype\": \"number\",\n        \"std\": 2.058561485068513,\n        \"min\": 45.73340202,\n        \"max\": 51.93905494,\n        \"num_unique_values\": 10,\n        \"samples\": [\n          51.83752269,\n          50.42075745,\n          51.93905494\n        ],\n        \"semantic_type\": \"\",\n        \"description\": \"\"\n      }\n    },\n    {\n      \"column\": \"ANTIGUEDAD\",\n      \"properties\": {\n        \"dtype\": \"number\",\n        \"std\": 1.9692073983655904,\n        \"min\": 48.0,\n        \"max\": 54.0,\n        \"num_unique_values\": 6,\n        \"samples\": [\n          52.0,\n          50.0,\n          48.0\n        ],\n        \"semantic_type\": \"\",\n        \"description\": \"\"\n      }\n    },\n    {\n      \"column\": \"USO_MB\",\n      \"properties\": {\n        \"dtype\": \"number\",\n        \"std\": 1.9547063923104502,\n        \"min\": 47.05160053,\n        \"max\": 53.03166363,\n        \"num_unique_values\": 10,\n        \"samples\": [\n          52.6896465,\n          48.96902339,\n          50.73248294\n        ],\n        \"semantic_type\": \"\",\n        \"description\": \"\"\n      }\n    },\n    {\n      \"column\": \"DEUDA_ACT\",\n      \"properties\": {\n        \"dtype\": \"number\",\n        \"std\": 1.1236980622484063,\n        \"min\": 48.69426513,\n        \"max\": 52.53340594,\n        \"num_unique_values\": 10,\n        \"samples\": [\n          51.89021551,\n          51.03090324,\n          49.75364002\n        ],\n        \"semantic_type\": \"\",\n        \"description\": \"\"\n      }\n    },\n    {\n      \"column\": \"MIN_ENT_3M\",\n      \"properties\": {\n        \"dtype\": \"number\",\n        \"std\": 1.7521288084390023,\n        \"min\": 47.61289818,\n        \"max\": 53.11999349,\n        \"num_unique_values\": 10,\n        \"samples\": [\n          48.62910117,\n          50.28977129,\n          50.64643993\n        ],\n        \"semantic_type\": \"\",\n        \"description\": \"\"\n      }\n    },\n    {\n      \"column\": \"MIN_SAL_3M\",\n      \"properties\": {\n        \"dtype\": \"number\",\n        \"std\": 1.4665356278207722,\n        \"min\": 48.34566319,\n        \"max\": 53.13691952,\n        \"num_unique_values\": 10,\n        \"samples\": [\n          53.13691952,\n          51.537999,\n          52.60794817\n        ],\n        \"semantic_type\": \"\",\n        \"description\": \"\"\n      }\n    },\n    {\n      \"column\": \"TARGET\",\n      \"properties\": {\n        \"dtype\": \"number\",\n        \"std\": 0,\n        \"min\": 0,\n        \"max\": 1,\n        \"num_unique_values\": 2,\n        \"samples\": [\n          1,\n          0\n        ],\n        \"semantic_type\": \"\",\n        \"description\": \"\"\n      }\n    },\n    {\n      \"column\": \"LIMA\",\n      \"properties\": {\n        \"dtype\": \"number\",\n        \"std\": 0,\n        \"min\": 0,\n        \"max\": 1,\n        \"num_unique_values\": 2,\n        \"samples\": [\n          1,\n          0\n        ],\n        \"semantic_type\": \"\",\n        \"description\": \"\"\n      }\n    },\n    {\n      \"column\": \"SUR\",\n      \"properties\": {\n        \"dtype\": \"number\",\n        \"std\": 0,\n        \"min\": 0,\n        \"max\": 1,\n        \"num_unique_values\": 2,\n        \"samples\": [\n          0,\n          1\n        ],\n        \"semantic_type\": \"\",\n        \"description\": \"\"\n      }\n    },\n    {\n      \"column\": \"CENTRO\",\n      \"properties\": {\n        \"dtype\": \"number\",\n        \"std\": 0,\n        \"min\": 0,\n        \"max\": 0,\n        \"num_unique_values\": 1,\n        \"samples\": [\n          0\n        ],\n        \"semantic_type\": \"\",\n        \"description\": \"\"\n      }\n    },\n    {\n      \"column\": \"NORTE\",\n      \"properties\": {\n        \"dtype\": \"number\",\n        \"std\": 0,\n        \"min\": 0,\n        \"max\": 1,\n        \"num_unique_values\": 2,\n        \"samples\": [\n          1\n        ],\n        \"semantic_type\": \"\",\n        \"description\": \"\"\n      }\n    },\n    {\n      \"column\": \"GENERO_F\",\n      \"properties\": {\n        \"dtype\": \"boolean\",\n        \"num_unique_values\": 2,\n        \"samples\": [\n          false\n        ],\n        \"semantic_type\": \"\",\n        \"description\": \"\"\n      }\n    },\n    {\n      \"column\": \"GENERO_M\",\n      \"properties\": {\n        \"dtype\": \"boolean\",\n        \"num_unique_values\": 2,\n        \"samples\": [\n          true\n        ],\n        \"semantic_type\": \"\",\n        \"description\": \"\"\n      }\n    }\n  ]\n}",
       "type": "dataframe"
      },
      "text/html": [
       "\n",
       "  <div id=\"df-c3972cde-07f8-486a-b9b9-79576f2c6842\" class=\"colab-df-container\">\n",
       "    <div>\n",
       "<style scoped>\n",
       "    .dataframe tbody tr th:only-of-type {\n",
       "        vertical-align: middle;\n",
       "    }\n",
       "\n",
       "    .dataframe tbody tr th {\n",
       "        vertical-align: top;\n",
       "    }\n",
       "\n",
       "    .dataframe thead th {\n",
       "        text-align: right;\n",
       "    }\n",
       "</style>\n",
       "<table border=\"1\" class=\"dataframe\">\n",
       "  <thead>\n",
       "    <tr style=\"text-align: right;\">\n",
       "      <th></th>\n",
       "      <th>EDAD</th>\n",
       "      <th>DEPARTAMENTO</th>\n",
       "      <th>CAPDEUDA</th>\n",
       "      <th>RENTA</th>\n",
       "      <th>USO_SMS</th>\n",
       "      <th>DEUDA_ANT</th>\n",
       "      <th>MIN_CALLCENTER</th>\n",
       "      <th>ANTIGUEDAD</th>\n",
       "      <th>USO_MB</th>\n",
       "      <th>DEUDA_ACT</th>\n",
       "      <th>MIN_ENT_3M</th>\n",
       "      <th>MIN_SAL_3M</th>\n",
       "      <th>TARGET</th>\n",
       "      <th>LIMA</th>\n",
       "      <th>SUR</th>\n",
       "      <th>CENTRO</th>\n",
       "      <th>NORTE</th>\n",
       "      <th>GENERO_F</th>\n",
       "      <th>GENERO_M</th>\n",
       "    </tr>\n",
       "    <tr>\n",
       "      <th>CLIENT_ID</th>\n",
       "      <th></th>\n",
       "      <th></th>\n",
       "      <th></th>\n",
       "      <th></th>\n",
       "      <th></th>\n",
       "      <th></th>\n",
       "      <th></th>\n",
       "      <th></th>\n",
       "      <th></th>\n",
       "      <th></th>\n",
       "      <th></th>\n",
       "      <th></th>\n",
       "      <th></th>\n",
       "      <th></th>\n",
       "      <th></th>\n",
       "      <th></th>\n",
       "      <th></th>\n",
       "      <th></th>\n",
       "      <th></th>\n",
       "    </tr>\n",
       "  </thead>\n",
       "  <tbody>\n",
       "    <tr>\n",
       "      <th>4039</th>\n",
       "      <td>54</td>\n",
       "      <td>CUSCO</td>\n",
       "      <td>47.77</td>\n",
       "      <td>49.04</td>\n",
       "      <td>51.07</td>\n",
       "      <td>50.86</td>\n",
       "      <td>50.34</td>\n",
       "      <td>52.0</td>\n",
       "      <td>50.50</td>\n",
       "      <td>50.05</td>\n",
       "      <td>47.63</td>\n",
       "      <td>48.35</td>\n",
       "      <td>0</td>\n",
       "      <td>0</td>\n",
       "      <td>1</td>\n",
       "      <td>0</td>\n",
       "      <td>0</td>\n",
       "      <td>True</td>\n",
       "      <td>False</td>\n",
       "    </tr>\n",
       "    <tr>\n",
       "      <th>4550</th>\n",
       "      <td>32</td>\n",
       "      <td>ICA</td>\n",
       "      <td>50.67</td>\n",
       "      <td>51.03</td>\n",
       "      <td>49.11</td>\n",
       "      <td>49.43</td>\n",
       "      <td>50.42</td>\n",
       "      <td>50.0</td>\n",
       "      <td>48.97</td>\n",
       "      <td>51.03</td>\n",
       "      <td>50.29</td>\n",
       "      <td>51.54</td>\n",
       "      <td>1</td>\n",
       "      <td>0</td>\n",
       "      <td>1</td>\n",
       "      <td>0</td>\n",
       "      <td>0</td>\n",
       "      <td>False</td>\n",
       "      <td>True</td>\n",
       "    </tr>\n",
       "    <tr>\n",
       "      <th>4098</th>\n",
       "      <td>26</td>\n",
       "      <td>LIMA</td>\n",
       "      <td>50.01</td>\n",
       "      <td>49.99</td>\n",
       "      <td>50.10</td>\n",
       "      <td>50.42</td>\n",
       "      <td>51.63</td>\n",
       "      <td>51.0</td>\n",
       "      <td>53.03</td>\n",
       "      <td>50.07</td>\n",
       "      <td>49.94</td>\n",
       "      <td>50.35</td>\n",
       "      <td>0</td>\n",
       "      <td>1</td>\n",
       "      <td>0</td>\n",
       "      <td>0</td>\n",
       "      <td>0</td>\n",
       "      <td>False</td>\n",
       "      <td>True</td>\n",
       "    </tr>\n",
       "    <tr>\n",
       "      <th>490</th>\n",
       "      <td>18</td>\n",
       "      <td>TACNA</td>\n",
       "      <td>49.68</td>\n",
       "      <td>49.45</td>\n",
       "      <td>51.89</td>\n",
       "      <td>48.41</td>\n",
       "      <td>46.98</td>\n",
       "      <td>49.0</td>\n",
       "      <td>48.91</td>\n",
       "      <td>48.69</td>\n",
       "      <td>51.05</td>\n",
       "      <td>50.50</td>\n",
       "      <td>0</td>\n",
       "      <td>0</td>\n",
       "      <td>1</td>\n",
       "      <td>0</td>\n",
       "      <td>0</td>\n",
       "      <td>False</td>\n",
       "      <td>True</td>\n",
       "    </tr>\n",
       "    <tr>\n",
       "      <th>3388</th>\n",
       "      <td>22</td>\n",
       "      <td>CUSCO</td>\n",
       "      <td>49.15</td>\n",
       "      <td>50.95</td>\n",
       "      <td>50.70</td>\n",
       "      <td>50.87</td>\n",
       "      <td>49.68</td>\n",
       "      <td>54.0</td>\n",
       "      <td>51.00</td>\n",
       "      <td>52.53</td>\n",
       "      <td>47.97</td>\n",
       "      <td>49.49</td>\n",
       "      <td>1</td>\n",
       "      <td>0</td>\n",
       "      <td>1</td>\n",
       "      <td>0</td>\n",
       "      <td>0</td>\n",
       "      <td>False</td>\n",
       "      <td>True</td>\n",
       "    </tr>\n",
       "    <tr>\n",
       "      <th>4765</th>\n",
       "      <td>31</td>\n",
       "      <td>AYACUCHO</td>\n",
       "      <td>50.06</td>\n",
       "      <td>51.10</td>\n",
       "      <td>48.09</td>\n",
       "      <td>50.39</td>\n",
       "      <td>51.94</td>\n",
       "      <td>48.0</td>\n",
       "      <td>50.73</td>\n",
       "      <td>49.75</td>\n",
       "      <td>50.65</td>\n",
       "      <td>52.61</td>\n",
       "      <td>1</td>\n",
       "      <td>0</td>\n",
       "      <td>1</td>\n",
       "      <td>0</td>\n",
       "      <td>0</td>\n",
       "      <td>True</td>\n",
       "      <td>False</td>\n",
       "    </tr>\n",
       "    <tr>\n",
       "      <th>3830</th>\n",
       "      <td>50</td>\n",
       "      <td>ANCASH</td>\n",
       "      <td>47.34</td>\n",
       "      <td>50.05</td>\n",
       "      <td>50.77</td>\n",
       "      <td>50.09</td>\n",
       "      <td>49.13</td>\n",
       "      <td>48.0</td>\n",
       "      <td>47.05</td>\n",
       "      <td>50.27</td>\n",
       "      <td>53.12</td>\n",
       "      <td>51.02</td>\n",
       "      <td>1</td>\n",
       "      <td>0</td>\n",
       "      <td>0</td>\n",
       "      <td>0</td>\n",
       "      <td>1</td>\n",
       "      <td>True</td>\n",
       "      <td>False</td>\n",
       "    </tr>\n",
       "    <tr>\n",
       "      <th>1088</th>\n",
       "      <td>20</td>\n",
       "      <td>LIMA</td>\n",
       "      <td>50.85</td>\n",
       "      <td>53.25</td>\n",
       "      <td>52.06</td>\n",
       "      <td>50.77</td>\n",
       "      <td>49.04</td>\n",
       "      <td>50.0</td>\n",
       "      <td>48.15</td>\n",
       "      <td>50.95</td>\n",
       "      <td>49.84</td>\n",
       "      <td>49.84</td>\n",
       "      <td>1</td>\n",
       "      <td>1</td>\n",
       "      <td>0</td>\n",
       "      <td>0</td>\n",
       "      <td>0</td>\n",
       "      <td>False</td>\n",
       "      <td>True</td>\n",
       "    </tr>\n",
       "    <tr>\n",
       "      <th>1586</th>\n",
       "      <td>18</td>\n",
       "      <td>LIMA</td>\n",
       "      <td>51.62</td>\n",
       "      <td>49.26</td>\n",
       "      <td>52.47</td>\n",
       "      <td>50.76</td>\n",
       "      <td>51.84</td>\n",
       "      <td>48.0</td>\n",
       "      <td>52.69</td>\n",
       "      <td>51.89</td>\n",
       "      <td>48.63</td>\n",
       "      <td>53.14</td>\n",
       "      <td>1</td>\n",
       "      <td>1</td>\n",
       "      <td>0</td>\n",
       "      <td>0</td>\n",
       "      <td>0</td>\n",
       "      <td>False</td>\n",
       "      <td>True</td>\n",
       "    </tr>\n",
       "    <tr>\n",
       "      <th>1029</th>\n",
       "      <td>18</td>\n",
       "      <td>LIMA</td>\n",
       "      <td>49.81</td>\n",
       "      <td>47.28</td>\n",
       "      <td>52.06</td>\n",
       "      <td>51.35</td>\n",
       "      <td>45.73</td>\n",
       "      <td>51.0</td>\n",
       "      <td>48.65</td>\n",
       "      <td>49.75</td>\n",
       "      <td>47.61</td>\n",
       "      <td>51.86</td>\n",
       "      <td>0</td>\n",
       "      <td>1</td>\n",
       "      <td>0</td>\n",
       "      <td>0</td>\n",
       "      <td>0</td>\n",
       "      <td>False</td>\n",
       "      <td>True</td>\n",
       "    </tr>\n",
       "  </tbody>\n",
       "</table>\n",
       "</div>\n",
       "    <div class=\"colab-df-buttons\">\n",
       "\n",
       "  <div class=\"colab-df-container\">\n",
       "    <button class=\"colab-df-convert\" onclick=\"convertToInteractive('df-c3972cde-07f8-486a-b9b9-79576f2c6842')\"\n",
       "            title=\"Convert this dataframe to an interactive table.\"\n",
       "            style=\"display:none;\">\n",
       "\n",
       "  <svg xmlns=\"http://www.w3.org/2000/svg\" height=\"24px\" viewBox=\"0 -960 960 960\">\n",
       "    <path d=\"M120-120v-720h720v720H120Zm60-500h600v-160H180v160Zm220 220h160v-160H400v160Zm0 220h160v-160H400v160ZM180-400h160v-160H180v160Zm440 0h160v-160H620v160ZM180-180h160v-160H180v160Zm440 0h160v-160H620v160Z\"/>\n",
       "  </svg>\n",
       "    </button>\n",
       "\n",
       "  <style>\n",
       "    .colab-df-container {\n",
       "      display:flex;\n",
       "      gap: 12px;\n",
       "    }\n",
       "\n",
       "    .colab-df-convert {\n",
       "      background-color: #E8F0FE;\n",
       "      border: none;\n",
       "      border-radius: 50%;\n",
       "      cursor: pointer;\n",
       "      display: none;\n",
       "      fill: #1967D2;\n",
       "      height: 32px;\n",
       "      padding: 0 0 0 0;\n",
       "      width: 32px;\n",
       "    }\n",
       "\n",
       "    .colab-df-convert:hover {\n",
       "      background-color: #E2EBFA;\n",
       "      box-shadow: 0px 1px 2px rgba(60, 64, 67, 0.3), 0px 1px 3px 1px rgba(60, 64, 67, 0.15);\n",
       "      fill: #174EA6;\n",
       "    }\n",
       "\n",
       "    .colab-df-buttons div {\n",
       "      margin-bottom: 4px;\n",
       "    }\n",
       "\n",
       "    [theme=dark] .colab-df-convert {\n",
       "      background-color: #3B4455;\n",
       "      fill: #D2E3FC;\n",
       "    }\n",
       "\n",
       "    [theme=dark] .colab-df-convert:hover {\n",
       "      background-color: #434B5C;\n",
       "      box-shadow: 0px 1px 3px 1px rgba(0, 0, 0, 0.15);\n",
       "      filter: drop-shadow(0px 1px 2px rgba(0, 0, 0, 0.3));\n",
       "      fill: #FFFFFF;\n",
       "    }\n",
       "  </style>\n",
       "\n",
       "    <script>\n",
       "      const buttonEl =\n",
       "        document.querySelector('#df-c3972cde-07f8-486a-b9b9-79576f2c6842 button.colab-df-convert');\n",
       "      buttonEl.style.display =\n",
       "        google.colab.kernel.accessAllowed ? 'block' : 'none';\n",
       "\n",
       "      async function convertToInteractive(key) {\n",
       "        const element = document.querySelector('#df-c3972cde-07f8-486a-b9b9-79576f2c6842');\n",
       "        const dataTable =\n",
       "          await google.colab.kernel.invokeFunction('convertToInteractive',\n",
       "                                                    [key], {});\n",
       "        if (!dataTable) return;\n",
       "\n",
       "        const docLinkHtml = 'Like what you see? Visit the ' +\n",
       "          '<a target=\"_blank\" href=https://colab.research.google.com/notebooks/data_table.ipynb>data table notebook</a>'\n",
       "          + ' to learn more about interactive tables.';\n",
       "        element.innerHTML = '';\n",
       "        dataTable['output_type'] = 'display_data';\n",
       "        await google.colab.output.renderOutput(dataTable, element);\n",
       "        const docLink = document.createElement('div');\n",
       "        docLink.innerHTML = docLinkHtml;\n",
       "        element.appendChild(docLink);\n",
       "      }\n",
       "    </script>\n",
       "  </div>\n",
       "\n",
       "\n",
       "<div id=\"df-c291bcc3-7b2b-4ba8-b9f0-a07a882537b5\">\n",
       "  <button class=\"colab-df-quickchart\" onclick=\"quickchart('df-c291bcc3-7b2b-4ba8-b9f0-a07a882537b5')\"\n",
       "            title=\"Suggest charts\"\n",
       "            style=\"display:none;\">\n",
       "\n",
       "<svg xmlns=\"http://www.w3.org/2000/svg\" height=\"24px\"viewBox=\"0 0 24 24\"\n",
       "     width=\"24px\">\n",
       "    <g>\n",
       "        <path d=\"M19 3H5c-1.1 0-2 .9-2 2v14c0 1.1.9 2 2 2h14c1.1 0 2-.9 2-2V5c0-1.1-.9-2-2-2zM9 17H7v-7h2v7zm4 0h-2V7h2v10zm4 0h-2v-4h2v4z\"/>\n",
       "    </g>\n",
       "</svg>\n",
       "  </button>\n",
       "\n",
       "<style>\n",
       "  .colab-df-quickchart {\n",
       "      --bg-color: #E8F0FE;\n",
       "      --fill-color: #1967D2;\n",
       "      --hover-bg-color: #E2EBFA;\n",
       "      --hover-fill-color: #174EA6;\n",
       "      --disabled-fill-color: #AAA;\n",
       "      --disabled-bg-color: #DDD;\n",
       "  }\n",
       "\n",
       "  [theme=dark] .colab-df-quickchart {\n",
       "      --bg-color: #3B4455;\n",
       "      --fill-color: #D2E3FC;\n",
       "      --hover-bg-color: #434B5C;\n",
       "      --hover-fill-color: #FFFFFF;\n",
       "      --disabled-bg-color: #3B4455;\n",
       "      --disabled-fill-color: #666;\n",
       "  }\n",
       "\n",
       "  .colab-df-quickchart {\n",
       "    background-color: var(--bg-color);\n",
       "    border: none;\n",
       "    border-radius: 50%;\n",
       "    cursor: pointer;\n",
       "    display: none;\n",
       "    fill: var(--fill-color);\n",
       "    height: 32px;\n",
       "    padding: 0;\n",
       "    width: 32px;\n",
       "  }\n",
       "\n",
       "  .colab-df-quickchart:hover {\n",
       "    background-color: var(--hover-bg-color);\n",
       "    box-shadow: 0 1px 2px rgba(60, 64, 67, 0.3), 0 1px 3px 1px rgba(60, 64, 67, 0.15);\n",
       "    fill: var(--button-hover-fill-color);\n",
       "  }\n",
       "\n",
       "  .colab-df-quickchart-complete:disabled,\n",
       "  .colab-df-quickchart-complete:disabled:hover {\n",
       "    background-color: var(--disabled-bg-color);\n",
       "    fill: var(--disabled-fill-color);\n",
       "    box-shadow: none;\n",
       "  }\n",
       "\n",
       "  .colab-df-spinner {\n",
       "    border: 2px solid var(--fill-color);\n",
       "    border-color: transparent;\n",
       "    border-bottom-color: var(--fill-color);\n",
       "    animation:\n",
       "      spin 1s steps(1) infinite;\n",
       "  }\n",
       "\n",
       "  @keyframes spin {\n",
       "    0% {\n",
       "      border-color: transparent;\n",
       "      border-bottom-color: var(--fill-color);\n",
       "      border-left-color: var(--fill-color);\n",
       "    }\n",
       "    20% {\n",
       "      border-color: transparent;\n",
       "      border-left-color: var(--fill-color);\n",
       "      border-top-color: var(--fill-color);\n",
       "    }\n",
       "    30% {\n",
       "      border-color: transparent;\n",
       "      border-left-color: var(--fill-color);\n",
       "      border-top-color: var(--fill-color);\n",
       "      border-right-color: var(--fill-color);\n",
       "    }\n",
       "    40% {\n",
       "      border-color: transparent;\n",
       "      border-right-color: var(--fill-color);\n",
       "      border-top-color: var(--fill-color);\n",
       "    }\n",
       "    60% {\n",
       "      border-color: transparent;\n",
       "      border-right-color: var(--fill-color);\n",
       "    }\n",
       "    80% {\n",
       "      border-color: transparent;\n",
       "      border-right-color: var(--fill-color);\n",
       "      border-bottom-color: var(--fill-color);\n",
       "    }\n",
       "    90% {\n",
       "      border-color: transparent;\n",
       "      border-bottom-color: var(--fill-color);\n",
       "    }\n",
       "  }\n",
       "</style>\n",
       "\n",
       "  <script>\n",
       "    async function quickchart(key) {\n",
       "      const quickchartButtonEl =\n",
       "        document.querySelector('#' + key + ' button');\n",
       "      quickchartButtonEl.disabled = true;  // To prevent multiple clicks.\n",
       "      quickchartButtonEl.classList.add('colab-df-spinner');\n",
       "      try {\n",
       "        const charts = await google.colab.kernel.invokeFunction(\n",
       "            'suggestCharts', [key], {});\n",
       "      } catch (error) {\n",
       "        console.error('Error during call to suggestCharts:', error);\n",
       "      }\n",
       "      quickchartButtonEl.classList.remove('colab-df-spinner');\n",
       "      quickchartButtonEl.classList.add('colab-df-quickchart-complete');\n",
       "    }\n",
       "    (() => {\n",
       "      let quickchartButtonEl =\n",
       "        document.querySelector('#df-c291bcc3-7b2b-4ba8-b9f0-a07a882537b5 button');\n",
       "      quickchartButtonEl.style.display =\n",
       "        google.colab.kernel.accessAllowed ? 'block' : 'none';\n",
       "    })();\n",
       "  </script>\n",
       "</div>\n",
       "\n",
       "    </div>\n",
       "  </div>\n"
      ],
      "text/plain": [
       "           EDAD DEPARTAMENTO  CAPDEUDA  RENTA  USO_SMS  DEUDA_ANT  \\\n",
       "CLIENT_ID                                                           \n",
       "4039         54        CUSCO     47.77  49.04    51.07      50.86   \n",
       "4550         32          ICA     50.67  51.03    49.11      49.43   \n",
       "4098         26         LIMA     50.01  49.99    50.10      50.42   \n",
       "490          18        TACNA     49.68  49.45    51.89      48.41   \n",
       "3388         22        CUSCO     49.15  50.95    50.70      50.87   \n",
       "4765         31     AYACUCHO     50.06  51.10    48.09      50.39   \n",
       "3830         50       ANCASH     47.34  50.05    50.77      50.09   \n",
       "1088         20         LIMA     50.85  53.25    52.06      50.77   \n",
       "1586         18         LIMA     51.62  49.26    52.47      50.76   \n",
       "1029         18         LIMA     49.81  47.28    52.06      51.35   \n",
       "\n",
       "           MIN_CALLCENTER  ANTIGUEDAD  USO_MB  DEUDA_ACT  MIN_ENT_3M  \\\n",
       "CLIENT_ID                                                              \n",
       "4039                50.34        52.0   50.50      50.05       47.63   \n",
       "4550                50.42        50.0   48.97      51.03       50.29   \n",
       "4098                51.63        51.0   53.03      50.07       49.94   \n",
       "490                 46.98        49.0   48.91      48.69       51.05   \n",
       "3388                49.68        54.0   51.00      52.53       47.97   \n",
       "4765                51.94        48.0   50.73      49.75       50.65   \n",
       "3830                49.13        48.0   47.05      50.27       53.12   \n",
       "1088                49.04        50.0   48.15      50.95       49.84   \n",
       "1586                51.84        48.0   52.69      51.89       48.63   \n",
       "1029                45.73        51.0   48.65      49.75       47.61   \n",
       "\n",
       "           MIN_SAL_3M  TARGET  LIMA  SUR  CENTRO  NORTE  GENERO_F  GENERO_M  \n",
       "CLIENT_ID                                                                    \n",
       "4039            48.35       0     0    1       0      0      True     False  \n",
       "4550            51.54       1     0    1       0      0     False      True  \n",
       "4098            50.35       0     1    0       0      0     False      True  \n",
       "490             50.50       0     0    1       0      0     False      True  \n",
       "3388            49.49       1     0    1       0      0     False      True  \n",
       "4765            52.61       1     0    1       0      0      True     False  \n",
       "3830            51.02       1     0    0       0      1      True     False  \n",
       "1088            49.84       1     1    0       0      0     False      True  \n",
       "1586            53.14       1     1    0       0      0     False      True  \n",
       "1029            51.86       0     1    0       0      0     False      True  "
      ]
     },
     "execution_count": 45,
     "metadata": {},
     "output_type": "execute_result"
    }
   ],
   "source": [
    "df.sample(10)"
   ]
  },
  {
   "cell_type": "code",
   "execution_count": null,
   "metadata": {
    "id": "55pq1tU6l5tK"
   },
   "outputs": [],
   "source": [
    "#dropeamos alguna de las 2 columnas 'GENERO_M' o GENERP_M, ya que contienen la misma informacion\n",
    "df = df.drop(columns = ['GENERO_M'])"
   ]
  },
  {
   "cell_type": "code",
   "execution_count": null,
   "metadata": {
    "colab": {
     "base_uri": "https://localhost:8080/",
     "height": 648
    },
    "executionInfo": {
     "elapsed": 314,
     "status": "ok",
     "timestamp": 1727370481920,
     "user": {
      "displayName": "EDWIN RAFAEL VILLANUEVA TALAVERA",
      "userId": "14475481775736332436"
     },
     "user_tz": 300
    },
    "id": "EASwCx2uQFGO",
    "outputId": "ce87d2ee-6b3f-4483-cdcc-a8ad26ad743a"
   },
   "outputs": [
    {
     "data": {
      "text/html": [
       "<div>\n",
       "<style scoped>\n",
       "    .dataframe tbody tr th:only-of-type {\n",
       "        vertical-align: middle;\n",
       "    }\n",
       "\n",
       "    .dataframe tbody tr th {\n",
       "        vertical-align: top;\n",
       "    }\n",
       "\n",
       "    .dataframe thead th {\n",
       "        text-align: right;\n",
       "    }\n",
       "</style>\n",
       "<table border=\"1\" class=\"dataframe\">\n",
       "  <thead>\n",
       "    <tr style=\"text-align: right;\">\n",
       "      <th></th>\n",
       "      <th>0</th>\n",
       "    </tr>\n",
       "  </thead>\n",
       "  <tbody>\n",
       "    <tr>\n",
       "      <th>EDAD</th>\n",
       "      <td>int64</td>\n",
       "    </tr>\n",
       "    <tr>\n",
       "      <th>DEPARTAMENTO</th>\n",
       "      <td>object</td>\n",
       "    </tr>\n",
       "    <tr>\n",
       "      <th>CAPDEUDA</th>\n",
       "      <td>float64</td>\n",
       "    </tr>\n",
       "    <tr>\n",
       "      <th>RENTA</th>\n",
       "      <td>float64</td>\n",
       "    </tr>\n",
       "    <tr>\n",
       "      <th>USO_SMS</th>\n",
       "      <td>float64</td>\n",
       "    </tr>\n",
       "    <tr>\n",
       "      <th>DEUDA_ANT</th>\n",
       "      <td>float64</td>\n",
       "    </tr>\n",
       "    <tr>\n",
       "      <th>MIN_CALLCENTER</th>\n",
       "      <td>float64</td>\n",
       "    </tr>\n",
       "    <tr>\n",
       "      <th>ANTIGUEDAD</th>\n",
       "      <td>float64</td>\n",
       "    </tr>\n",
       "    <tr>\n",
       "      <th>USO_MB</th>\n",
       "      <td>float64</td>\n",
       "    </tr>\n",
       "    <tr>\n",
       "      <th>DEUDA_ACT</th>\n",
       "      <td>float64</td>\n",
       "    </tr>\n",
       "    <tr>\n",
       "      <th>MIN_ENT_3M</th>\n",
       "      <td>float64</td>\n",
       "    </tr>\n",
       "    <tr>\n",
       "      <th>MIN_SAL_3M</th>\n",
       "      <td>float64</td>\n",
       "    </tr>\n",
       "    <tr>\n",
       "      <th>TARGET</th>\n",
       "      <td>int64</td>\n",
       "    </tr>\n",
       "    <tr>\n",
       "      <th>LIMA</th>\n",
       "      <td>int64</td>\n",
       "    </tr>\n",
       "    <tr>\n",
       "      <th>SUR</th>\n",
       "      <td>int64</td>\n",
       "    </tr>\n",
       "    <tr>\n",
       "      <th>CENTRO</th>\n",
       "      <td>int64</td>\n",
       "    </tr>\n",
       "    <tr>\n",
       "      <th>NORTE</th>\n",
       "      <td>int64</td>\n",
       "    </tr>\n",
       "    <tr>\n",
       "      <th>GENERO_F</th>\n",
       "      <td>bool</td>\n",
       "    </tr>\n",
       "  </tbody>\n",
       "</table>\n",
       "</div><br><label><b>dtype:</b> object</label>"
      ],
      "text/plain": [
       "EDAD                int64\n",
       "DEPARTAMENTO       object\n",
       "CAPDEUDA          float64\n",
       "RENTA             float64\n",
       "USO_SMS           float64\n",
       "DEUDA_ANT         float64\n",
       "MIN_CALLCENTER    float64\n",
       "ANTIGUEDAD        float64\n",
       "USO_MB            float64\n",
       "DEUDA_ACT         float64\n",
       "MIN_ENT_3M        float64\n",
       "MIN_SAL_3M        float64\n",
       "TARGET              int64\n",
       "LIMA                int64\n",
       "SUR                 int64\n",
       "CENTRO              int64\n",
       "NORTE               int64\n",
       "GENERO_F             bool\n",
       "dtype: object"
      ]
     },
     "execution_count": 47,
     "metadata": {},
     "output_type": "execute_result"
    }
   ],
   "source": [
    "# Finalmente, chequeamos que todas las variables sean numericas\n",
    "df.dtypes"
   ]
  },
  {
   "cell_type": "code",
   "execution_count": null,
   "metadata": {
    "id": "CM3HoiClN-sH"
   },
   "outputs": [],
   "source": [
    "# Salvamos la data procesada en un archivo, la cual esta lista para ser usada por algoritmos de ML\n",
    "df.to_excel('DatosProcesados.xlsx')"
   ]
  }
 ],
 "metadata": {
  "colab": {
   "provenance": []
  },
  "kernelspec": {
   "display_name": "base",
   "language": "python",
   "name": "python3"
  },
  "language_info": {
   "codemirror_mode": {
    "name": "ipython",
    "version": 3
   },
   "file_extension": ".py",
   "mimetype": "text/x-python",
   "name": "python",
   "nbconvert_exporter": "python",
   "pygments_lexer": "ipython3",
   "version": "3.12.4"
  }
 },
 "nbformat": 4,
 "nbformat_minor": 0
}
